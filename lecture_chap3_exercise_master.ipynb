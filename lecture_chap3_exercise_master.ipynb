{
  "nbformat": 4,
  "nbformat_minor": 0,
  "metadata": {
    "colab": {
      "name": "lecture_chap3_exercise_master.ipynb",
      "version": "0.3.2",
      "provenance": [],
      "include_colab_link": true
    },
    "kernelspec": {
      "display_name": "Python 3",
      "language": "python",
      "name": "python3"
    }
  },
  "cells": [
    {
      "cell_type": "markdown",
      "metadata": {
        "id": "view-in-github",
        "colab_type": "text"
      },
      "source": [
        "[View in Colaboratory](https://colab.research.google.com/github/kinishikawa/learning/blob/master/lecture_chap3_exercise_master.ipynb)"
      ]
    },
    {
      "metadata": {
        "id": "CbnqWmCotTbY",
        "colab_type": "text"
      },
      "cell_type": "markdown",
      "source": [
        "# 第３回講義 演習"
      ]
    },
    {
      "metadata": {
        "id": "N3TcBFK2tTba",
        "colab_type": "text"
      },
      "cell_type": "markdown",
      "source": [
        "## 課題. k-Nearest Neighbors (k-NN) を使った手書き文字認識"
      ]
    },
    {
      "metadata": {
        "id": "6aknTehstTbb",
        "colab_type": "code",
        "colab": {}
      },
      "cell_type": "code",
      "source": [
        "%matplotlib inline\n",
        "\n",
        "from sklearn.utils import shuffle\n",
        "from sklearn.model_selection import train_test_split\n",
        "from sklearn.metrics import f1_score\n",
        "from sklearn.datasets import fetch_mldata\n",
        "\n",
        "import numpy as np\n",
        "import matplotlib.pyplot as plt"
      ],
      "execution_count": 0,
      "outputs": []
    },
    {
      "metadata": {
        "id": "Vyv8x_rAtTbh",
        "colab_type": "text"
      },
      "cell_type": "markdown",
      "source": [
        "### 1. MNISTデータセットの読み込み"
      ]
    },
    {
      "metadata": {
        "id": "LJAGXJ8ztTbj",
        "colab_type": "code",
        "colab": {}
      },
      "cell_type": "code",
      "source": [
        "!mkdir scikit_learn_data\n",
        "!mkdir scikit_learn_data/mldata\n",
        "!cd scikit_learn_data/mldata && wget -O \"mnist-original.mat\" \"https://github.com/irration/datasets/raw/master/mnist-original.mat\"\n",
        "\n",
        "mnist = fetch_mldata('MNIST original', data_home='./scikit_learn_data')\n",
        "mnist_X, mnist_y = shuffle(mnist.data, mnist.target, random_state=42)\n",
        "\n",
        "mnist_X = mnist_X / 255.0\n",
        "\n",
        "train_X, test_X, train_y, test_y = train_test_split(mnist_X, mnist_y,\n",
        "                                                    test_size=0.2,\n",
        "                                                    random_state=42)\n",
        "train_X, valid_X, train_y, valid_y = train_test_split(train_X, train_y,\n",
        "                                                      test_size=0.2,\n",
        "                                                      random_state=42)"
      ],
      "execution_count": 0,
      "outputs": []
    },
    {
      "metadata": {
        "id": "c2wfs8XgtTbl",
        "colab_type": "text"
      },
      "cell_type": "markdown",
      "source": [
        "### 2. MNISTデータの可視化"
      ]
    },
    {
      "metadata": {
        "id": "0zj_kovLtTbm",
        "colab_type": "code",
        "colab": {}
      },
      "cell_type": "code",
      "source": [
        "fig = plt.figure(figsize=(9, 9))\n",
        "fig.subplots_adjust(left=0, right=1, bottom=0,\n",
        "                    top=0.5, hspace=0.05, wspace=0.05)\n",
        "\n",
        "for i in range(81):\n",
        "    ax = fig.add_subplot(9, 9, i + 1, xticks=[], yticks=[])\n",
        "    ax.imshow(train_X[i].reshape((28, 28)), cmap='gray')"
      ],
      "execution_count": 0,
      "outputs": []
    },
    {
      "metadata": {
        "id": "zBPVwDFCtTbp",
        "colab_type": "text"
      },
      "cell_type": "markdown",
      "source": [
        "### 3. 精度評価について [[リンク](http://ibisforest.org/index.php?F%E5%80%A4)]"
      ]
    },
    {
      "metadata": {
        "id": "MsjaA6rDtTbq",
        "colab_type": "code",
        "colab": {}
      },
      "cell_type": "code",
      "source": [
        "import sklearn\n",
        "imgs = list(map(lambda x: x.reshape(28, 28), sklearn.utils.shuffle(mnist.data)))\n",
        "\n",
        "row, col = 1, 4\n",
        "\n",
        "fig = plt.figure()\n",
        "for i in range(row*col):\n",
        "    sp = fig.add_subplot(row, col, i+1)  \n",
        "    sp.imshow(imgs[i], cmap='gray', interpolation='none')\n",
        "plt.show()"
      ],
      "execution_count": 0,
      "outputs": []
    },
    {
      "metadata": {
        "id": "Ivw371x0tTbu",
        "colab_type": "text"
      },
      "cell_type": "markdown",
      "source": [
        "||**実際が正例**|**実際が負例**|\n",
        "|:---------:|:---------:|:---------:|\n",
        "|**予測が正例**|True Positive (TP)|False Positive (FP)|\n",
        "|**予測が負例**|False Negative (FN)|True Negative (TN)|"
      ]
    },
    {
      "metadata": {
        "id": "SKg24iqqtTbv",
        "colab_type": "text"
      },
      "cell_type": "markdown",
      "source": [
        "- 正解率 (Accuracy): 全データのうち, 予測が当たったものの割合\n",
        "    $$ \\text{Accuracy} = \\frac{\\text{TP} + \\text{TN}}{\\text{TP} + \\text{FP} + \\text{FN} + \\text{TN}} $$\n",
        "- 適合率 (Precision): 正と予測したデータのうち, 実際に正であるものの割合\n",
        "    $$ \\text{Precision} = \\frac{\\text{TP}}{\\text{TP} + \\text{FP}} $$\n",
        "- 再現率 (Recall): 実際に正であるもののうち, 正であると予測されたものの割合\n",
        "    $$ \\text{Recall} = \\frac{\\text{TP}}{\\text{TP} + \\text{FN}} $$\n",
        "- F値 (F-measure): 精度と再現率の調和平均\n",
        "    $$ \\text{F-measure} = \\frac{2 \\cdot \\text{Precision} \\cdot \\text{Recall}}{\\text{Precision} + \\text{Recall}} $$"
      ]
    },
    {
      "metadata": {
        "id": "4S2nRuATtTbw",
        "colab_type": "text"
      },
      "cell_type": "markdown",
      "source": [
        "### 4. 距離関数について"
      ]
    },
    {
      "metadata": {
        "id": "2OeyAKYqtTbx",
        "colab_type": "text"
      },
      "cell_type": "markdown",
      "source": [
        "#### Cosine類似度"
      ]
    },
    {
      "metadata": {
        "id": "9AglCBv6tTby",
        "colab_type": "text"
      },
      "cell_type": "markdown",
      "source": [
        "$$ cos \\left({\\bf a},{\\bf b}\\right) = \\frac{{\\bf a}\\cdot{\\bf b}}{\\|{\\bf a}\\| \\|{\\bf b}\\|} = \\frac{\\sum^{n}_{i} a_i b_i}{\\sqrt{\\sum^{n}_{i} a^2_i} \\sqrt{\\sum^{n}_{i} b^2_i}} $$"
      ]
    },
    {
      "metadata": {
        "id": "ScBGv0BttTbz",
        "colab_type": "code",
        "colab": {}
      },
      "cell_type": "code",
      "source": [
        "norm = np.linalg.norm(train_X, ord=2, axis=1)\n",
        "normalized_train_X = train_X / norm[:, np.newaxis]\n",
        "\n",
        "sample_1 = normalized_train_X[0]\n",
        "sample_2 = normalized_train_X[1]\n",
        "print(np.dot(sample_1, sample_2))"
      ],
      "execution_count": 0,
      "outputs": []
    },
    {
      "metadata": {
        "id": "swDfg04etiy9",
        "colab_type": "code",
        "colab": {}
      },
      "cell_type": "code",
      "source": [
        ""
      ],
      "execution_count": 0,
      "outputs": []
    }
  ]
}