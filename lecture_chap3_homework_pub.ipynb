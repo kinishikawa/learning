{
  "nbformat": 4,
  "nbformat_minor": 0,
  "metadata": {
    "colab": {
      "name": "lecture_chap3_homework_pub.ipynb",
      "version": "0.3.2",
      "provenance": [],
      "collapsed_sections": [],
      "include_colab_link": true
    },
    "kernelspec": {
      "display_name": "Python 3",
      "language": "python",
      "name": "python3"
    }
  },
  "cells": [
    {
      "cell_type": "markdown",
      "metadata": {
        "id": "view-in-github",
        "colab_type": "text"
      },
      "source": [
        "[View in Colaboratory](https://colab.research.google.com/github/kinishikawa/learning/blob/master/lecture_chap3_homework_pub.ipynb)"
      ]
    },
    {
      "metadata": {
        "id": "ekp1UhnqeoKd",
        "colab_type": "text"
      },
      "cell_type": "markdown",
      "source": [
        "# 第３回講義 宿題"
      ]
    },
    {
      "metadata": {
        "id": "BnP2vNI3eoKg",
        "colab_type": "text"
      },
      "cell_type": "markdown",
      "source": [
        "## 課題. MNISTをk-NNで学習せよ"
      ]
    },
    {
      "metadata": {
        "id": "Cvj9SRpZeoKi",
        "colab_type": "text"
      },
      "cell_type": "markdown",
      "source": [
        "### 注意\n",
        "- homework関数を完成させて提出してください\n",
        "    - 訓練データはtrain_X, train_y, テストデータはtest_Xで与えられます\n",
        "    - train_Xとtrain_yをtrain_X, train_yとvalid_X, valid_yに分けるなどしてモデルを学習させてください\n",
        "    - test_Xに対して予想ラベルpred_yを作り, homework関数の戻り値としてください\\\n",
        "- pred_yのtest_yに対する精度(F値)で評価します\n",
        "- 全体の実行時間がiLect上で60分を超えないようにしてください\n",
        "- homework関数の外には何も書かないでください (必要なものは全てhomework関数に入れてください)\n",
        "- 解答提出時には Answer Cell の内容のみを提出してください"
      ]
    },
    {
      "metadata": {
        "id": "KjFH9lp7eoKj",
        "colab_type": "text"
      },
      "cell_type": "markdown",
      "source": [
        "- k-NNの実装にscikit-learnなどのライブラリを使わないでください"
      ]
    },
    {
      "metadata": {
        "id": "ivsaAFospGi5",
        "colab_type": "text"
      },
      "cell_type": "markdown",
      "source": [
        ""
      ]
    },
    {
      "metadata": {
        "id": "7V_gJdTDeoKk",
        "colab_type": "text"
      },
      "cell_type": "markdown",
      "source": [
        "次のセルのhomework関数を完成させて提出してください"
      ]
    },
    {
      "metadata": {
        "id": "DW0KYjM8eoKl",
        "colab_type": "text"
      },
      "cell_type": "markdown",
      "source": [
        "# Answer Cell"
      ]
    },
    {
      "metadata": {
        "id": "XgZWjp5meoKm",
        "colab_type": "code",
        "colab": {}
      },
      "cell_type": "code",
      "source": [
        "def homework(train_X, train_y, test_X):\n",
        "    ### WRITE ME\n",
        "    return pred_y"
      ],
      "execution_count": 0,
      "outputs": []
    },
    {
      "metadata": {
        "id": "5sslVfQveoKs",
        "colab_type": "text"
      },
      "cell_type": "markdown",
      "source": [
        "- 以下のvalidate_homework関数を用いてエラーが起きないか動作確認をして下さい。\n",
        "- 提出に際して、以下のscore_homework関数で60分で実行が終わることを確認して下さい。\n",
        "- 評価は以下のscore_homework関数で行われますが、random_stateの値は変更されます。"
      ]
    },
    {
      "metadata": {
        "id": "YZuwaSuseoKu",
        "colab_type": "text"
      },
      "cell_type": "markdown",
      "source": [
        "# Checker Cell (for student)"
      ]
    },
    {
      "metadata": {
        "id": "5P8n_x5weoKv",
        "colab_type": "code",
        "colab": {
          "base_uri": "https://localhost:8080/",
          "height": 289
        },
        "outputId": "dae88e74-5948-4670-e942-d88b8fbecdcc"
      },
      "cell_type": "code",
      "source": [
        "from sklearn.utils import shuffle\n",
        "from sklearn.metrics import f1_score\n",
        "from sklearn.datasets import fetch_mldata\n",
        "from sklearn.model_selection import train_test_split\n",
        "\n",
        "import numpy as np\n",
        "\n",
        "!mkdir scikit_learn_data\n",
        "!mkdir scikit_learn_data/mldata\n",
        "!cd scikit_learn_data/mldata && wget -O \"mnist-original.mat\" \"https://github.com/irration/datasets/raw/master/mnist-original.mat\"\n",
        "\n",
        "def load_mnist():\n",
        "    mnist = fetch_mldata('MNIST original', data_home='./scikit_learn_data')\n",
        "    mnist_X, mnist_y = shuffle(mnist.data.astype('float32'),\n",
        "                               mnist.target.astype('int32'), random_state=42)\n",
        "\n",
        "    mnist_X = mnist_X / 255.0\n",
        "\n",
        "    return train_test_split(mnist_X, mnist_y,\n",
        "                test_size=0.2,\n",
        "                random_state=42)\n",
        "\n",
        "def validate_homework():\n",
        "    train_X, test_X, train_y, test_y = load_mnist()\n",
        "\n",
        "    # validate for small dataset\n",
        "    train_X_mini = train_X[:100]\n",
        "    train_y_mini = train_y[:100]\n",
        "    test_X_mini = test_X[:100]\n",
        "    test_y_mini = test_y[:100]\n",
        "\n",
        "    pred_y = homework(train_X_mini, train_y_mini, test_X_mini)\n",
        "    print(f1_score(test_y_mini, pred_y, average='macro'))\n",
        "\n",
        "def score_homework():\n",
        "    train_X, test_X, train_y, test_y = load_mnist()\n",
        "    pred_y = homework(train_X, train_y, test_X)\n",
        "    print(f1_score(test_y, pred_y, average='macro'))"
      ],
      "execution_count": 2,
      "outputs": [
        {
          "output_type": "stream",
          "text": [
            "--2018-07-12 02:03:43--  https://github.com/irration/datasets/raw/master/mnist-original.mat\r\n",
            "Resolving github.com (github.com)... 192.30.253.112, 192.30.253.113\n",
            "Connecting to github.com (github.com)|192.30.253.112|:443... connected.\n",
            "HTTP request sent, awaiting response... 302 Found\n",
            "Location: https://raw.githubusercontent.com/irration/datasets/master/mnist-original.mat [following]\n",
            "--2018-07-12 02:03:43--  https://raw.githubusercontent.com/irration/datasets/master/mnist-original.mat\n",
            "Resolving raw.githubusercontent.com (raw.githubusercontent.com)... 151.101.0.133, 151.101.64.133, 151.101.128.133, ...\n",
            "Connecting to raw.githubusercontent.com (raw.githubusercontent.com)|151.101.0.133|:443... connected.\n",
            "HTTP request sent, awaiting response... 200 OK\n",
            "Length: 55440440 (53M) [application/octet-stream]\n",
            "Saving to: ‘mnist-original.mat’\n",
            "\n",
            "mnist-original.mat  100%[===================>]  52.87M  91.0MB/s    in 0.6s    \n",
            "\n",
            "2018-07-12 02:03:44 (91.0 MB/s) - ‘mnist-original.mat’ saved [55440440/55440440]\n",
            "\n"
          ],
          "name": "stdout"
        }
      ]
    },
    {
      "metadata": {
        "id": "EwBUg9oKeoKx",
        "colab_type": "code",
        "colab": {
          "base_uri": "https://localhost:8080/",
          "height": 185
        },
        "outputId": "1687ebff-a185-4a4d-8ddb-e9817d57e530"
      },
      "cell_type": "code",
      "source": [
        "validate_homework()\n",
        "# score_homework()"
      ],
      "execution_count": 1,
      "outputs": [
        {
          "output_type": "error",
          "ename": "NameError",
          "evalue": "ignored",
          "traceback": [
            "\u001b[0;31m---------------------------------------------------------------------------\u001b[0m",
            "\u001b[0;31mNameError\u001b[0m                                 Traceback (most recent call last)",
            "\u001b[0;32m<ipython-input-1-deeed4a90cbd>\u001b[0m in \u001b[0;36m<module>\u001b[0;34m()\u001b[0m\n\u001b[0;32m----> 1\u001b[0;31m \u001b[0mvalidate_homework\u001b[0m\u001b[0;34m(\u001b[0m\u001b[0;34m)\u001b[0m\u001b[0;34m\u001b[0m\u001b[0m\n\u001b[0m\u001b[1;32m      2\u001b[0m \u001b[0;31m# score_homework()\u001b[0m\u001b[0;34m\u001b[0m\u001b[0;34m\u001b[0m\u001b[0m\n",
            "\u001b[0;31mNameError\u001b[0m: name 'validate_homework' is not defined"
          ]
        }
      ]
    },
    {
      "metadata": {
        "id": "jLhWIhYfe7ft",
        "colab_type": "code",
        "colab": {}
      },
      "cell_type": "code",
      "source": [
        ""
      ],
      "execution_count": 0,
      "outputs": []
    }
  ]
}