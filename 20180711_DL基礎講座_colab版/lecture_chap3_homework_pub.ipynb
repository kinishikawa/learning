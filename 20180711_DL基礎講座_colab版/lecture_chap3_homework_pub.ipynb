{
  "nbformat": 4,
  "nbformat_minor": 0,
  "metadata": {
    "colab": {
      "name": "lecture_chap3_homework_pub.ipynb",
      "version": "0.3.2",
      "provenance": [],
      "collapsed_sections": [],
      "include_colab_link": true
    },
    "kernelspec": {
      "display_name": "Python 3",
      "language": "python",
      "name": "python3"
    }
  },
  "cells": [
    {
      "cell_type": "markdown",
      "metadata": {
        "id": "view-in-github",
        "colab_type": "text"
      },
      "source": [
        "[View in Colaboratory](https://colab.research.google.com/github/m6650/DL/blob/master/lecture_chap3_homework_pub.ipynb)"
      ]
    },
    {
      "metadata": {
        "id": "ekp1UhnqeoKd",
        "colab_type": "text"
      },
      "cell_type": "markdown",
      "source": [
        "# 第３回講義 宿題"
      ]
    },
    {
      "metadata": {
        "id": "BnP2vNI3eoKg",
        "colab_type": "text"
      },
      "cell_type": "markdown",
      "source": [
        "## 課題. MNISTをk-NNで学習せよ"
      ]
    },
    {
      "metadata": {
        "id": "Cvj9SRpZeoKi",
        "colab_type": "text"
      },
      "cell_type": "markdown",
      "source": [
        "### 注意\n",
        "- homework関数を完成させて提出してください\n",
        "    - 訓練データはtrain_X, train_y, テストデータはtest_Xで与えられます\n",
        "    - train_Xとtrain_yをtrain_X, train_yとvalid_X, valid_yに分けるなどしてモデルを学習させてください\n",
        "    - test_Xに対して予想ラベルpred_yを作り, homework関数の戻り値としてください\\\n",
        "- pred_yのtest_yに対する精度(F値)で評価します\n",
        "- 全体の実行時間がiLect上で60分を超えないようにしてください\n",
        "- homework関数の外には何も書かないでください (必要なものは全てhomework関数に入れてください)\n",
        "- 解答提出時には Answer Cell の内容のみを提出してください"
      ]
    },
    {
      "metadata": {
        "id": "KjFH9lp7eoKj",
        "colab_type": "text"
      },
      "cell_type": "markdown",
      "source": [
        "- k-NNの実装にscikit-learnなどのライブラリを使わないでください"
      ]
    },
    {
      "metadata": {
        "id": "ivsaAFospGi5",
        "colab_type": "text"
      },
      "cell_type": "markdown",
      "source": [
        ""
      ]
    },
    {
      "metadata": {
        "id": "7V_gJdTDeoKk",
        "colab_type": "text"
      },
      "cell_type": "markdown",
      "source": [
        "次のセルのhomework関数を完成させて提出してください"
      ]
    },
    {
      "metadata": {
        "id": "DW0KYjM8eoKl",
        "colab_type": "text"
      },
      "cell_type": "markdown",
      "source": [
        "# Answer Cell"
      ]
    },
    {
      "metadata": {
        "id": "XgZWjp5meoKm",
        "colab_type": "code",
        "colab": {
          "base_uri": "https://localhost:8080/",
          "height": 17
        },
        "outputId": "2b6699ac-eb3f-4759-ed8f-a8160e5dcaaa"
      },
      "cell_type": "code",
      "source": [
        "def homework(train_X, train_y, test_X):\n",
        "    #from datetime import datetime\n",
        "    #print(datetime.now().strftime(\"%Y/%m/%d %H:%M:%S\"))\n",
        "    #print(train_X.shape)\n",
        "    #print(test_X.shape)\n",
        "    \n",
        "    # WRITE ME\n",
        "    import collections\n",
        "\n",
        "    # ハイパーパラメータ\n",
        "    k = 4\n",
        "    #print(k)\n",
        "    \n",
        "    # return用の変数\n",
        "    pred_y = np.zeros(test_X.shape[0])\n",
        "        \n",
        "    for i in range(test_X.shape[0]):\n",
        "        # １．入力パターンと全ての学習パターンとの距離を計算する\n",
        "        # ユークリッド距離を求める\n",
        "        #norm = np.linalg.norm(train_X - test_X[i] , ord=2, axis=1)\n",
        "        # ２．距離の昇順に学習パターンをソートする\n",
        "        #sort_train_y = train_y[np.argsort(norm)]\n",
        "        # ３．ソートした学習パターンの上位k個を取り上げ、\n",
        "        #     最も出現回数の多いカテゴリを出力する\n",
        "        #pred_y[i] = collections.Counter(sort_train_y[:k]).most_common()[0][0]\n",
        "\n",
        "        #collection利用\n",
        "        pred_y[i] = collections.Counter(train_y[np.argsort(np.linalg.norm(train_X - test_X[i] , ord=2, axis=1))][:k]).most_common()[0][0]\n",
        "\n",
        "        #collection利用しない⇒collection利用の方が精度が高い。\n",
        "        #pred_y[i] = np.argmax(np.bincount(train_y[np.argsort(np.linalg.norm(train_X - test_X[i] , ord=2, axis=1))][:k]))\n",
        "\n",
        "        \n",
        "    # newaxisを使ってユークリッド距離を求める ⇒実行時エラーになるのでNG\n",
        "    #norm = np.linalg.norm(test_X[:, np.newaxis] - train_X , ord=2 , axis=2)\n",
        "\n",
        "    #collection利用\n",
        "    #for i in range(test_X.shape[0]):\n",
        "    #    if i % 100 == 0:\n",
        "    #       print(i)   \n",
        "    #    pred_y[i] = collections.Counter(train_y[np.argsort(norm)[:,:k]][i]).most_common()[0][0]    \n",
        "  \n",
        "    #print(\"★★ 予想結果１ ★★\")\n",
        "    #print(pred_y)\n",
        " \n",
        "    \n",
        "    #collection利用しない⇒collection利用の方が精度が高い。\n",
        "    #for i in range(test_X.shape[0]):\n",
        "    #    if i % 100 == 0:\n",
        "    #        print(i)\n",
        "    #    pred_y[i] = np.argmax(np.bincount(train_y[np.argsort(norm)[:,:k]][i]))\n",
        "       \n",
        "    #print(\"★★ 予想結果２ ★★\")\n",
        "    #print(pred_y)\n",
        "    \n",
        "    #print(datetime.now().strftime(\"%Y/%m/%d %H:%M:%S\"))\n",
        "    return pred_y"
      ],
      "execution_count": 37,
      "outputs": []
    },
    {
      "metadata": {
        "id": "5sslVfQveoKs",
        "colab_type": "text"
      },
      "cell_type": "markdown",
      "source": [
        "- 以下のvalidate_homework関数を用いてエラーが起きないか動作確認をして下さい。\n",
        "- 提出に際して、以下のscore_homework関数で60分で実行が終わることを確認して下さい。\n",
        "- 評価は以下のscore_homework関数で行われますが、random_stateの値は変更されます。"
      ]
    },
    {
      "metadata": {
        "id": "YZuwaSuseoKu",
        "colab_type": "text"
      },
      "cell_type": "markdown",
      "source": [
        "# Checker Cell (for student)"
      ]
    },
    {
      "metadata": {
        "id": "5P8n_x5weoKv",
        "colab_type": "code",
        "colab": {
          "base_uri": "https://localhost:8080/",
          "height": 334
        },
        "outputId": "157181b7-9577-4f32-cf86-3bba27bf068e"
      },
      "cell_type": "code",
      "source": [
        "from sklearn.utils import shuffle\n",
        "from sklearn.metrics import f1_score\n",
        "from sklearn.datasets import fetch_mldata\n",
        "from sklearn.model_selection import train_test_split\n",
        "\n",
        "import numpy as np\n",
        "\n",
        "!mkdir scikit_learn_data\n",
        "!mkdir scikit_learn_data/mldata\n",
        "!cd scikit_learn_data/mldata && wget -O \"mnist-original.mat\" \"https://github.com/irration/datasets/raw/master/mnist-original.mat\"\n",
        "\n",
        "def load_mnist():\n",
        "    mnist = fetch_mldata('MNIST original', data_home='./scikit_learn_data')\n",
        "    mnist_X, mnist_y = shuffle(mnist.data.astype('float32'),\n",
        "                               mnist.target.astype('int32'), random_state=42)\n",
        "\n",
        "    mnist_X = mnist_X / 255.0\n",
        "\n",
        "    return train_test_split(mnist_X, mnist_y,\n",
        "                test_size=0.2,\n",
        "                random_state=42)\n",
        "\n",
        "def validate_homework():\n",
        "    train_X, test_X, train_y, test_y = load_mnist()\n",
        "\n",
        "    # validate for small dataset\n",
        "    train_X_mini = train_X[:1000]\n",
        "    train_y_mini = train_y[:1000]\n",
        "    test_X_mini = test_X[:1000]\n",
        "    test_y_mini = test_y[:1000]\n",
        "\n",
        "    pred_y = homework(train_X_mini, train_y_mini, test_X_mini)\n",
        "\n",
        "    #print(\"★★ test_y_mini ★★\")\n",
        "    #print(test_y_mini)\n",
        "    \n",
        "    print(f1_score(test_y_mini, pred_y, average='macro'))\n",
        "\n",
        "def score_homework():\n",
        "    train_X, test_X, train_y, test_y = load_mnist()\n",
        "    pred_y = homework(train_X, train_y, test_X)\n",
        "    print(f1_score(test_y, pred_y, average='macro'))"
      ],
      "execution_count": 24,
      "outputs": [
        {
          "output_type": "stream",
          "text": [
            "mkdir: cannot create directory ‘scikit_learn_data’: File exists\n",
            "mkdir: cannot create directory ‘scikit_learn_data/mldata’: File exists\n",
            "--2018-07-13 03:29:59--  https://github.com/irration/datasets/raw/master/mnist-original.mat\n",
            "Resolving github.com (github.com)... 192.30.253.113, 192.30.253.112\n",
            "Connecting to github.com (github.com)|192.30.253.113|:443... connected.\n",
            "HTTP request sent, awaiting response... 302 Found\n",
            "Location: https://raw.githubusercontent.com/irration/datasets/master/mnist-original.mat [following]\n",
            "--2018-07-13 03:29:59--  https://raw.githubusercontent.com/irration/datasets/master/mnist-original.mat\n",
            "Resolving raw.githubusercontent.com (raw.githubusercontent.com)... 151.101.0.133, 151.101.64.133, 151.101.128.133, ...\n",
            "Connecting to raw.githubusercontent.com (raw.githubusercontent.com)|151.101.0.133|:443... connected.\n",
            "HTTP request sent, awaiting response... 200 OK\n",
            "Length: 55440440 (53M) [application/octet-stream]\n",
            "Saving to: ‘mnist-original.mat’\n",
            "\n",
            "mnist-original.mat  100%[===================>]  52.87M  58.7MB/s    in 0.9s    \n",
            "\n",
            "2018-07-13 03:30:00 (58.7 MB/s) - ‘mnist-original.mat’ saved [55440440/55440440]\n",
            "\n"
          ],
          "name": "stdout"
        }
      ]
    },
    {
      "metadata": {
        "id": "EwBUg9oKeoKx",
        "colab_type": "code",
        "colab": {
          "base_uri": "https://localhost:8080/",
          "height": 122
        },
        "outputId": "c47e56b4-b78f-42c6-d869-65d304763871"
      },
      "cell_type": "code",
      "source": [
        "#validate_homework()\n",
        "score_homework()\n",
        "\n",
        "\n",
        "# newaxis無し、ループ、コレクション使用、スーパパラメータ1\n",
        "#2018/07/13 03:30:05\n",
        "#(56000, 784)\n",
        "#(14000, 784)\n",
        "#1\n",
        "#2018/07/13 03:57:38\n",
        "#0.9717876848112864\n",
        "\n",
        "# newaxis無し、ループ、コレクション使用、スーパパラメータ2\n",
        "#2018/07/13 04:18:14\n",
        "#(56000, 784)\n",
        "#(14000, 784)\n",
        "#2\n",
        "#2018/07/13 04:45:25\n",
        "#0.9717876848112864\n",
        "\n",
        "\n",
        "# newaxis無し、ループ、コレクション使用、スーパパラメータ3\n",
        "#2018/07/13 01:12:03\n",
        "#(56000, 784)\n",
        "#(14000, 784)\n",
        "#2018/07/13 01:39:46\n",
        "#0.9729032796331711\n",
        "\n",
        "# newaxis無し、ループ、コレクション使用、スーパパラメータ4\n",
        "#2018/07/13 06:26:24\n",
        "#(56000, 784)\n",
        "#(14000, 784)\n",
        "#4\n",
        "#2018/07/13 06:53:23\n",
        "#0.9736463983009995\n",
        "\n",
        "# newaxis無し、ループ、コレクション使用、スーパパラメータ5\n",
        "#2018/07/13 08:27:00\n",
        "#(56000, 784)\n",
        "#(14000, 784)\n",
        "#5\n",
        "#2018/07/13 08:54:53\n",
        "#0.9730456214323814\n",
        "\n",
        "#2018/07/13 09:14:13\n",
        "#(56000, 784)\n",
        "#(14000, 784)\n",
        "#6\n",
        "#2018/07/13 09:41:25\n",
        "#0.9735624492399791\n",
        "\n",
        "#2018/07/13 09:42:35\n",
        "#(56000, 784)\n",
        "#(14000, 784)\n",
        "#7\n",
        "#2018/07/13 10:10:28\n",
        "#0.9717012172664834\n",
        "\n",
        "# newaxis無し、ループ、コレクション未使用、スーパパラメータ3\n",
        "#2018/07/13 01:49:37\n",
        "#(56000, 784)\n",
        "#(14000, 784)\n",
        "#2018/07/13 02:17:20\n",
        "#0.9721671186611228"
      ],
      "execution_count": 36,
      "outputs": [
        {
          "output_type": "stream",
          "text": [
            "2018/07/13 09:42:35\n",
            "(56000, 784)\n",
            "(14000, 784)\n",
            "7\n",
            "2018/07/13 10:10:28\n",
            "0.9717012172664834\n"
          ],
          "name": "stdout"
        }
      ]
    },
    {
      "metadata": {
        "id": "jLhWIhYfe7ft",
        "colab_type": "code",
        "colab": {}
      },
      "cell_type": "code",
      "source": [
        ""
      ],
      "execution_count": 0,
      "outputs": []
    }
  ]
}