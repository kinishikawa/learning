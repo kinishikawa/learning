{
  "nbformat": 4,
  "nbformat_minor": 0,
  "metadata": {
    "colab": {
      "name": "lecture_chap4_exercise_pub.ipynb",
      "version": "0.3.2",
      "provenance": [],
      "include_colab_link": true
    },
    "kernelspec": {
      "display_name": "Python 3",
      "language": "python",
      "name": "python3"
    }
  },
  "cells": [
    {
      "cell_type": "markdown",
      "metadata": {
        "id": "view-in-github",
        "colab_type": "text"
      },
      "source": [
        "[View in Colaboratory](https://colab.research.google.com/github/m6650/DL/blob/master/lecture_chap4_exercise_pub.ipynb)"
      ]
    },
    {
      "metadata": {
        "id": "4L0mFHAs9YoI",
        "colab_type": "text"
      },
      "cell_type": "markdown",
      "source": [
        "# 第4回講義 演習"
      ]
    },
    {
      "metadata": {
        "id": "OBpoYNiE9YoJ",
        "colab_type": "text"
      },
      "cell_type": "markdown",
      "source": [
        "## 課題1. ロジスティック回帰の実装と学習"
      ]
    },
    {
      "metadata": {
        "id": "0WjDNRnz9YoK",
        "colab_type": "code",
        "colab": {}
      },
      "cell_type": "code",
      "source": [
        "from sklearn.utils import shuffle\n",
        "\n",
        "import numpy as np\n",
        "\n",
        "np.random.seed(1234)"
      ],
      "execution_count": 0,
      "outputs": []
    },
    {
      "metadata": {
        "id": "otFpygo29YoO",
        "colab_type": "text"
      },
      "cell_type": "markdown",
      "source": [
        "### 1. シグモイド関数とその微分"
      ]
    },
    {
      "metadata": {
        "id": "yfkBAha39YoQ",
        "colab_type": "code",
        "colab": {}
      },
      "cell_type": "code",
      "source": [
        "def sigmoid(x):\n",
        "    return # WRITE ME!\n",
        "\n",
        "def deriv_sigmoid(x):\n",
        "    return # WRITE ME!"
      ],
      "execution_count": 0,
      "outputs": []
    },
    {
      "metadata": {
        "id": "Tj02ublf9YoU",
        "colab_type": "text"
      },
      "cell_type": "markdown",
      "source": [
        "### 2. データセットの設定と重みの定義"
      ]
    },
    {
      "metadata": {
        "id": "d7jFk_ui9YoW",
        "colab_type": "code",
        "colab": {}
      },
      "cell_type": "code",
      "source": [
        "# OR\n",
        "train_X = np.array([[0, 1], [1, 0], [0, 0], [1, 1]])\n",
        "train_y = np.array([[1], [1], [0], [1]])\n",
        "test_X, test_y = train_X, train_y\n",
        "\n",
        "# weights\n",
        "W = np.random.uniform(low=-0.08, high=0.08, size=(2, 1)).astype('float32')\n",
        "b = np.zeros(1).astype('float32')"
      ],
      "execution_count": 0,
      "outputs": []
    },
    {
      "metadata": {
        "id": "Arn0nDc_9Yob",
        "colab_type": "text"
      },
      "cell_type": "markdown",
      "source": [
        "### 3. train関数とtest関数"
      ]
    },
    {
      "metadata": {
        "id": "V79gRe1B9Yoc",
        "colab_type": "text"
      },
      "cell_type": "markdown",
      "source": [
        "##### 誤差関数\n",
        "* 負の対数尤度関数 (Negative Loglikelihood Function）\n",
        "* 交差エントロピー誤差関数ともいう\n",
        "\n",
        "$$ E ( {\\bf \\theta} ) =  -\\sum^N_{i=1} \\left[ t_i \\log y ({\\bf x}_i ; {\\bf \\theta}) + (1 - t_i) \\log \\{ 1 - y ({\\bf x}_i ; {\\bf \\theta}) \\}\\right] $$"
      ]
    },
    {
      "metadata": {
        "id": "BmsMIjmY9Yod",
        "colab_type": "code",
        "colab": {}
      },
      "cell_type": "code",
      "source": [
        "def train(x, t, eps=1.0):\n",
        "    global W, b # to access variables that defined outside of this function.\n",
        "    \n",
        "    # Forward Propagation\n",
        "    y = # WRITE ME!\n",
        "    \n",
        "    # Back Propagation (Cost Function: Negative Loglikelihood)\n",
        "    cost = np.sum(-t*np.log(y)-(1-t)*np.log(1-y))\n",
        "    delta = # WRITE ME!\n",
        "    \n",
        "    # Update Parameters\n",
        "    dW = # WRITE ME!\n",
        "    db = # WRITE ME!\n",
        "    W = W - eps*dW\n",
        "    b = b - eps*db\n",
        "\n",
        "    return cost\n",
        "\n",
        "def test(x, t):\n",
        "    # Test Cost\n",
        "    y = # WRITE ME!\n",
        "    cost = np.sum(-t*np.log(y)-(1-t)*np.log(1-y))\n",
        "    return cost, y"
      ],
      "execution_count": 0,
      "outputs": []
    },
    {
      "metadata": {
        "id": "OohVyC8D9Yog",
        "colab_type": "text"
      },
      "cell_type": "markdown",
      "source": [
        "### 4. 学習"
      ]
    },
    {
      "metadata": {
        "id": "zZ_iQ8zQ9Yoi",
        "colab_type": "code",
        "colab": {}
      },
      "cell_type": "code",
      "source": [
        "# Epoch\n",
        "for epoch in range(1000):\n",
        "    # Online Learning\n",
        "    for x, y in zip(train_X, train_y):\n",
        "        cost = train(x[np.newaxis, :], y[np.newaxis, :])\n",
        "    cost, pred_y = test(test_X, test_y)\n",
        "\n",
        "print(pred_y)"
      ],
      "execution_count": 0,
      "outputs": []
    },
    {
      "metadata": {
        "id": "2V38olHv9Yok",
        "colab_type": "text"
      },
      "cell_type": "markdown",
      "source": [
        "## 課題2. 活性化関数とその微分の実装"
      ]
    },
    {
      "metadata": {
        "id": "SxEQIsok9Yol",
        "colab_type": "text"
      },
      "cell_type": "markdown",
      "source": [
        "###  1. シグモイド関数とその微分"
      ]
    },
    {
      "metadata": {
        "id": "PPZYWH3A9Yom",
        "colab_type": "code",
        "colab": {}
      },
      "cell_type": "code",
      "source": [
        "def sigmoid(x):\n",
        "    return # WRITE ME!\n",
        "\n",
        "\n",
        "def deriv_sigmoid(x):\n",
        "    return # WRITE ME!"
      ],
      "execution_count": 0,
      "outputs": []
    },
    {
      "metadata": {
        "id": "xVHvOMVU9Yoq",
        "colab_type": "text"
      },
      "cell_type": "markdown",
      "source": [
        "### 2. ソフトマックス関数とその微分"
      ]
    },
    {
      "metadata": {
        "id": "nIxlfzmC9Yor",
        "colab_type": "code",
        "colab": {}
      },
      "cell_type": "code",
      "source": [
        "def softmax(x):\n",
        "    return # WRITE ME!\n",
        "\n",
        "\n",
        "def deriv_softmax(x):\n",
        "    return # WRITE ME!"
      ],
      "execution_count": 0,
      "outputs": []
    },
    {
      "metadata": {
        "id": "unIWYDDE9Yow",
        "colab_type": "text"
      },
      "cell_type": "markdown",
      "source": [
        "### 3. tanh関数とその微分"
      ]
    },
    {
      "metadata": {
        "id": "_MafYgC19Yoy",
        "colab_type": "code",
        "colab": {}
      },
      "cell_type": "code",
      "source": [
        "def tanh(x):\n",
        "    return # WRITE ME!\n",
        "\n",
        "\n",
        "def deriv_tanh(x):\n",
        "    return # WRITE ME!"
      ],
      "execution_count": 0,
      "outputs": []
    },
    {
      "metadata": {
        "id": "fKpW4L859Yo0",
        "colab_type": "text"
      },
      "cell_type": "markdown",
      "source": [
        "## 課題3. 多層パーセプトロンの実装と学習"
      ]
    },
    {
      "metadata": {
        "id": "CjSVAOr_9Yo1",
        "colab_type": "text"
      },
      "cell_type": "markdown",
      "source": [
        "### 1. データセットの設定と重みの定義"
      ]
    },
    {
      "metadata": {
        "id": "QKvvQOJu9Yo2",
        "colab_type": "code",
        "colab": {}
      },
      "cell_type": "code",
      "source": [
        "# XOR\n",
        "train_X = np.array([[0, 1], [1, 0], [0, 0], [1, 1]])\n",
        "train_y = np.array([[1], [1], [0], [0]])\n",
        "test_X, test_y = train_X, train_y\n",
        "\n",
        "# Layer1 weights\n",
        "W1 = np.random.uniform(low=-0.08, high=0.08, size=(2, 3)).astype('float32')\n",
        "b1 = np.zeros(3).astype('float32')\n",
        "\n",
        "# Layer2 weights\n",
        "W2 = np.random.uniform(low=-0.08, high=0.08, size=(3, 1)).astype('float32')\n",
        "b2 = np.zeros(1).astype('float32')"
      ],
      "execution_count": 0,
      "outputs": []
    },
    {
      "metadata": {
        "id": "N-GbNheL9Yo7",
        "colab_type": "text"
      },
      "cell_type": "markdown",
      "source": [
        "### 2.train関数とtest関数"
      ]
    },
    {
      "metadata": {
        "id": "RkBP0GZD9Yo8",
        "colab_type": "text"
      },
      "cell_type": "markdown",
      "source": [
        "##### 誤差関数\n",
        "* 負の対数尤度関数 (Negative Loglikelihood Function）\n",
        "* 交差エントロピー誤差関数ともいう\n",
        "\n",
        "$$ E ( {\\bf \\theta} ) =  -\\sum^N_{i=1} \\left[ t_i \\log y ({\\bf x}_i ; {\\bf \\theta}) + (1 - t_i) \\log \\{ 1 - y ({\\bf x}_i ; {\\bf \\theta}) \\}\\right] $$"
      ]
    },
    {
      "metadata": {
        "id": "e4iF79oj9Yo9",
        "colab_type": "code",
        "colab": {}
      },
      "cell_type": "code",
      "source": [
        "def train(x, t, eps=1.0):\n",
        "    global W1, b1, W2, b2 # to access variables that defined outside of this function.\n",
        "    \n",
        "    # Forward Propagation Layer1\n",
        "    u1 = # WRITE ME!\n",
        "    z1 = # WRITE ME!\n",
        "    \n",
        "    # Forward Propagation Layer2\n",
        "    u2 = # WRITE ME!\n",
        "    z2 = # WRITE ME!\n",
        "    \n",
        "    # Back Propagation (Cost Function: Negative Loglikelihood)\n",
        "    y = z2\n",
        "    cost = np.sum(-t*np.log(y) - (1 - t)*np.log(1 - y))\n",
        "    delta_2 = # WRITE ME! # Layer2 delta\n",
        "    delta_1 = # WRITE ME! # Layer1 delta\n",
        "\n",
        "    # Update Parameters Layer1\n",
        "    dW1 = # WRITE ME!\n",
        "    db1 = # WRITE ME!\n",
        "    W1 = W1 - eps*dW1\n",
        "    b1 = b1 - eps*db1\n",
        "    \n",
        "    # Update Parameters Layer2\n",
        "    dW2 = # WRITE ME!\n",
        "    db2 = # WRITE ME!\n",
        "    W2 = W2 - eps*dW2\n",
        "    b2 = b2 - eps*db2\n",
        "\n",
        "    return cost\n",
        "\n",
        "def test(x, t):\n",
        "    # Forward Propagation Layer1\n",
        "    u1 = # WRITE ME!\n",
        "    z1 = # WRITE ME!\n",
        "    \n",
        "    # Forward Propagation Layer2\n",
        "    u2 = # WRITE ME!\n",
        "    z2 = # WRITE ME!\n",
        "    \n",
        "    y = z2\n",
        "    \n",
        "    # Test Cost\n",
        "    cost = np.sum(-t*np.log(y)-(1-t)*np.log(1-y))\n",
        "    return cost, y"
      ],
      "execution_count": 0,
      "outputs": []
    },
    {
      "metadata": {
        "id": "l1yBSgaO9YpC",
        "colab_type": "text"
      },
      "cell_type": "markdown",
      "source": [
        "### 3. 学習"
      ]
    },
    {
      "metadata": {
        "id": "pzLu3NNu9YpD",
        "colab_type": "code",
        "colab": {}
      },
      "cell_type": "code",
      "source": [
        "# Epoch\n",
        "for epoch in range(2000):\n",
        "    # Online Learning\n",
        "    for x, y in zip(train_X, train_y):\n",
        "        cost = train(x[np.newaxis, :], y[np.newaxis, :])\n",
        "    cost, pred_y = test(test_X, test_y)\n",
        "\n",
        "print(pred_y)"
      ],
      "execution_count": 0,
      "outputs": []
    }
  ]
}