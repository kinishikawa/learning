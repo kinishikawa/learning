{
  "nbformat": 4,
  "nbformat_minor": 0,
  "metadata": {
    "colab": {
      "name": "lecture_chap4_homework_pub.ipynb",
      "version": "0.3.2",
      "provenance": [],
      "include_colab_link": true
    },
    "kernelspec": {
      "display_name": "Python 3",
      "language": "python",
      "name": "python3"
    }
  },
  "cells": [
    {
      "cell_type": "markdown",
      "metadata": {
        "id": "view-in-github",
        "colab_type": "text"
      },
      "source": [
        "[View in Colaboratory](https://colab.research.google.com/github/m6650/DL/blob/master/lecture_chap4_homework_pub.ipynb)"
      ]
    },
    {
      "metadata": {
        "id": "jjL57BDz97uA",
        "colab_type": "text"
      },
      "cell_type": "markdown",
      "source": [
        "# 第4回講義 宿題"
      ]
    },
    {
      "metadata": {
        "id": "ARbCOn3t97uB",
        "colab_type": "text"
      },
      "cell_type": "markdown",
      "source": [
        "## 課題. MNISTデータセットを多層パーセプトロン(MLP)で学習せよ"
      ]
    },
    {
      "metadata": {
        "id": "1Qka3eJm97uB",
        "colab_type": "text"
      },
      "cell_type": "markdown",
      "source": [
        "### 注意\n",
        "- homework関数を完成させて提出してください\n",
        "    - 訓練データはtrain_X, train_y, テストデータはtest_Xで与えられます\n",
        "    - train_Xとtrain_yをtrain_X, train_yとvalid_X, valid_yに分けるなどしてモデルを学習させてください\n",
        "    - test_Xに対して予想ラベルpred_yを作り, homework関数の戻り値としてください\\\n",
        "- pred_yのtest_yに対する精度(F値)で評価します\n",
        "- 全体の実行時間がiLect上で60分を超えないようにしてください\n",
        "- homework関数の外には何も書かないでください (必要なものは全てhomework関数に入れてください)\n",
        "- 解答提出時には Answer Cell の内容のみを提出してください"
      ]
    },
    {
      "metadata": {
        "id": "Li25s12M97uC",
        "colab_type": "text"
      },
      "cell_type": "markdown",
      "source": [
        "- MLPの実装にTensorflowなどのライブラリを使わないでください"
      ]
    },
    {
      "metadata": {
        "id": "5M2v-4fz97uD",
        "colab_type": "text"
      },
      "cell_type": "markdown",
      "source": [
        "### ヒント\n",
        "- 出力yはone-of-k表現\n",
        "- 最終層の活性化関数はソフトマックス関数, 誤差関数は多クラス交差エントロピー\n",
        "- 最終層のデルタは教科書参照"
      ]
    },
    {
      "metadata": {
        "id": "AdEgOs4a97uE",
        "colab_type": "text"
      },
      "cell_type": "markdown",
      "source": [
        "次のセルのhomework関数を完成させて提出してください"
      ]
    },
    {
      "metadata": {
        "id": "tsnvpnI797uF",
        "colab_type": "text"
      },
      "cell_type": "markdown",
      "source": [
        "# Answer Cell"
      ]
    },
    {
      "metadata": {
        "id": "EY7gse7U97uG",
        "colab_type": "code",
        "colab": {}
      },
      "cell_type": "code",
      "source": [
        "# def sigmoid(x):\n",
        "#     return 1/(1 + np.exp(-x))\n",
        "# def deriv_sigmoid(x):\n",
        "#     return sigmoid(x)*(1 - sigmoid(x))\n",
        "# def softmax(x):\n",
        "#     exp_x = np.exp(x)\n",
        "#     return exp_x/np.sum(exp_x, axis=0, keepdims=True)\n",
        "\n",
        "def homework(train_X, train_y, test_X):\n",
        "  \n",
        "    num_h = 15\n",
        "  \n",
        "    # Layer1 weights\n",
        "    W1 = np.random.uniform(low=-0.08, high=0.08, size=(784, num_h)).astype('float32')\n",
        "    b1 = np.zeros(num_h).astype('float32')\n",
        "\n",
        "    # Layer2 weights\n",
        "    W2 = np.random.uniform(low=-0.08, high=0.08, size=(num_h, 10)).astype('float32')\n",
        "    b2 = np.zeros(10).astype('float32')\n",
        "\n",
        "#     print(\"W2\")\n",
        "#     print(W2)\n",
        "#     print(\"b2\")\n",
        "#     print(b2)\n",
        "\n",
        "\n",
        "    # eps\n",
        "    eps=0.005\n",
        "\n",
        "#     print(train_X.shape)\n",
        "#     print(train_y[:,np.newaxis].shape)\n",
        "#     print(train_X)\n",
        "#     print(train_y[:,np.newaxis])\n",
        "\n",
        "    # Epoch\n",
        "    for epoch in range(100):\n",
        "        # Online Learning\n",
        "\n",
        "        for x,arg_t in zip(train_X , train_y):\n",
        "    #         print(\"ループ開始\")\n",
        "\n",
        "    #         print(\"x[:10]\")\n",
        "    #         print(x[:10])\n",
        "    #         print(\"arg_t\")\n",
        "    #         print(arg_t)\n",
        "\n",
        "            # 他クラスのロジステック回帰の問題に読み替える\n",
        "            t = np.zeros(10)\n",
        "            t[arg_t] = 1\n",
        "    #         print(\"y\")\n",
        "    #         print(y)\n",
        "\n",
        "            # Forward Propagation Layer1\n",
        "            u1 = np.matmul(x, W1) + b1\n",
        "#             z1 = sigmoid(u1)\n",
        "            z1 = 1/(1 + np.exp(-u1))\n",
        "    #         print(\"x.shape\")\n",
        "    #         print(x.shape)\n",
        "    #         print(\"b1\")\n",
        "    #         print(b1)\n",
        "    #         print(\"u1 = np.matmul(x, W1) + b1\")\n",
        "    #         print(u1[:10])\n",
        "    #         print(\"z1 = sigmoid(u1)\")\n",
        "    #         print(z1)\n",
        "\n",
        "            # Forward Propagation Layer2\n",
        "            u2 = np.matmul(z1, W2) + b2\n",
        "#             z2 = softmax(u2)\n",
        "            z2 = np.exp(u2)/np.sum(np.exp(u2), axis=0, keepdims=True)\n",
        "          \n",
        "#             print(\"z1.shape\")\n",
        "#             print(z1)\n",
        "#             print(\"b2\")\n",
        "#             print(b2)\n",
        "#             print(\"u2 = np.matmul(z1, W2) + b2\")\n",
        "#             print(u2)\n",
        "#             print(\"z2 = softmax(u2)\")\n",
        "#             print(z2)\n",
        "\n",
        "            # Back Propagation (Cost Function: Negative Loglikelihood)\n",
        "#             cost = np.sum(-t*np.log(z2))\n",
        "#             print(\"t\")\n",
        "#             print(t)\n",
        "#             print(\"np.log(z2)\")\n",
        "#             print(np.log(z2))\n",
        "#             print(\"★★★ cost=np.sum(-t*np.log(z2))\")\n",
        "#             print(cost)\n",
        "\n",
        "            delta_2 = -(t -z2) # Layer2 delta\n",
        "    #         print(\"delta_2 = t -z2\")\n",
        "    #         print(delta_2)\n",
        "\n",
        "#             delta_1 = deriv_sigmoid(u1) * np.matmul(delta_2, W2.T) # Layer1 delta\n",
        "            delta_1 = ( 1 / (1 + np.exp(-u1))) * (1 - 1 / (1 + np.exp(-u1))) * np.matmul(delta_2, W2.T)\n",
        " \n",
        "  \n",
        "    #         print(\"W2\")\n",
        "    #         print(W2)\n",
        "    #         print(\"deriv_sigmoid(u1)\")\n",
        "    #         print(deriv_sigmoid(u1))\n",
        "    #         print(\"np.matmul(delta_2, W2.T)\")\n",
        "    #         print(np.matmul(delta_2, W2.T))\n",
        "    #         print(\"delta_1 = deriv_sigmoid(u1) * np.matmul(delta_2, W2.T)\")\n",
        "    #         print(delta_1)\n",
        "\n",
        "            # Update Parameters Layer2\n",
        "    #        dW2 = np.matmul(z1[:,np.newaxis], delta_2[np.newaxis,:])\n",
        "            dW2 = np.matmul(z1.reshape(z1.size,1), delta_2.reshape(1,delta_2.size))\n",
        "            db2 = delta_2\n",
        "            W2 = W2 - eps*dW2\n",
        "            b2 = b2 - eps*db2\n",
        "\n",
        "    #         print(\"z1.reshape(z1.size,1)\")\n",
        "    #         print(z1.reshape(z1.size,1))\n",
        "    #         print(\"delta_2.reshape(1,delta_2.size)\")\n",
        "    #         print(delta_2.reshape(1,delta_2.size))\n",
        "\n",
        "    #         print(\"dW2\")\n",
        "    #         print(dW2.shape)\n",
        "    #         print(dW2)\n",
        "    #         print(\"db2\")\n",
        "    #         print(db2.shape)\n",
        "    #         print(db2)\n",
        "    #         print(\"W2\")\n",
        "    #         print(W2.shape)\n",
        "    #         print(W2)\n",
        "    #         print(\"b2\")\n",
        "    #         print(b2.shape)\n",
        "    #         print(b2)\n",
        "\n",
        "\n",
        "            # Update Parameters Layer1\n",
        "            dW1 = np.matmul(x.reshape(x.size,1), delta_1.reshape(1,delta_1.size))\n",
        "            db1 = delta_1\n",
        "            W1 = W1 - eps*dW1\n",
        "            b1 = b1 - eps*db1\n",
        "\n",
        "    #         print(\"dW1\")\n",
        "    #         print(dW1.shape)\n",
        "    #         print(dW1[:10,:])\n",
        "    #         print(\"db1\")\n",
        "    #         print(db1.shape)\n",
        "    #         print(db1)\n",
        "    #         print(\"W1\")\n",
        "    #         print(W1.shape)\n",
        "    #         print(W1[:10,:])\n",
        "    #         print(\"b1\")\n",
        "    #         print(b1.shape)\n",
        "    #         print(b1)\n",
        "  \n",
        "    pred_y = np.zeros(test_X.shape[0])\n",
        "\n",
        "#     print(test_X.shape[0])\n",
        "#     print(test_X.size)\n",
        "    \n",
        "    for i in range(test_X.shape[0]):\n",
        "#     for i in range(2):\n",
        "      \n",
        "#         print(\"test_X[i]\")\n",
        "#         print(test_X[i])\n",
        "      \n",
        "        # Forward Propagation Layer1\n",
        "        test_u1 = np.matmul(test_X[i], W1) + b1\n",
        "        test_z1 = sigmoid(test_u1)\n",
        "\n",
        "#         print(\"test_u1 = np.matmul(test_X[i], W1) + b1\")\n",
        "#         print(test_u1)\n",
        "#         print(\"test_z1 = sigmoid(test_u1)\")\n",
        "#         print(test_z1)\n",
        "\n",
        "        # Forward Propagation Layer2\n",
        "        test_u2 = np.matmul(test_z1, W2) + b2\n",
        "#         test_z2 = softmax(test_u2)\n",
        "        test_z2 = np.exp(test_u2)/np.sum(np.exp(test_u2), axis=0, keepdims=True)\n",
        "\n",
        "#         def softmax(x):\n",
        "#            exp_x = np.exp(x)\n",
        "#            return exp_x/np.sum(exp_x, axis=0, keepdims=True)\n",
        "\n",
        "#         print(\"test_u2 = np.matmul(test_z1, W2) + b2\")\n",
        "#         print(test_u2)\n",
        "#         print(\"test_z2 = softmax(test_u2)\")\n",
        "#         print(test_z2)\n",
        "        \n",
        "\n",
        "        # Test Cost\n",
        "        #cost = np.sum(-t*np.log(y)-(1-t)*np.log(1-y))\n",
        "        pred_y[i] = np.argmax(test_z2)\n",
        "       \n",
        "        \n",
        "#         print(\"pred_y[i] = np.argmax(test_z2)\")\n",
        "#         print(pred_y[i])\n",
        "               \n",
        "    return pred_y"
      ],
      "execution_count": 0,
      "outputs": []
    },
    {
      "metadata": {
        "id": "bt-JcQrg97uK",
        "colab_type": "text"
      },
      "cell_type": "markdown",
      "source": [
        "- 以下のvalidate_homework関数を用いてエラーが起きないか動作確認をして下さい。\n",
        "- 提出に際して、score_homework関数で60分で実行が終わることを確認して下さい。\n",
        "- 評価は以下のscore_homework関数で行われますが、random_stateの値は変更されます。"
      ]
    },
    {
      "metadata": {
        "id": "6y-4rAPa97uL",
        "colab_type": "text"
      },
      "cell_type": "markdown",
      "source": [
        "# Checker Cell (for student)"
      ]
    },
    {
      "metadata": {
        "id": "8mK9IYUY97uM",
        "colab_type": "code",
        "colab": {
          "base_uri": "https://localhost:8080/",
          "height": 362
        },
        "outputId": "900adf05-e9a2-49e1-aa2c-943a47a44d84"
      },
      "cell_type": "code",
      "source": [
        "from sklearn.utils import shuffle\n",
        "from sklearn.metrics import f1_score\n",
        "from sklearn.datasets import fetch_mldata\n",
        "from sklearn.model_selection import train_test_split\n",
        "\n",
        "import numpy as np\n",
        "\n",
        "!mkdir scikit_learn_data\n",
        "!mkdir scikit_learn_data/mldata\n",
        "!cd scikit_learn_data/mldata && wget -O \"mnist-original.mat\" \"https://github.com/irration/datasets/raw/master/mnist-original.mat\"\n",
        "\n",
        "def load_mnist():\n",
        "    mnist = fetch_mldata('MNIST original', data_home='./scikit_learn_data')\n",
        "    mnist_X, mnist_y = shuffle(mnist.data.astype('float32'),\n",
        "                               mnist.target.astype('int32'), random_state=42)\n",
        "\n",
        "    \n",
        "    mnist_X = mnist_X / 255.0\n",
        "\n",
        "    return train_test_split(mnist_X, mnist_y,\n",
        "                test_size=0.2,\n",
        "                random_state=42)\n",
        "\n",
        "def validate_homework():\n",
        "    train_X, test_X, train_y, test_y = load_mnist()\n",
        "\n",
        "    # validate for small dataset\n",
        "    train_X_mini = train_X[:1000]\n",
        "    train_y_mini = train_y[:1000]\n",
        "    test_X_mini = test_X[:1000]\n",
        "    test_y_mini = test_y[:1000]\n",
        "\n",
        "    pred_y = homework(train_X_mini, train_y_mini, test_X_mini)\n",
        "    \n",
        "#     print(test_y_mini)\n",
        "#     print(pred_y)\n",
        "    \n",
        "    print(f1_score(test_y_mini, pred_y, average='macro'))\n",
        "\n",
        "def score_homework():\n",
        "    train_X, test_X, train_y, test_y = load_mnist()\n",
        "    pred_y = homework(train_X, train_y, test_X)\n",
        "    print(f1_score(test_y, pred_y, average='macro'))"
      ],
      "execution_count": 182,
      "outputs": [
        {
          "output_type": "stream",
          "text": [
            "mkdir: cannot create directory ‘scikit_learn_data’: File exists\n",
            "mkdir: cannot create directory ‘scikit_learn_data/mldata’: File exists\n",
            "--2018-07-21 08:33:37--  https://github.com/irration/datasets/raw/master/mnist-original.mat\n",
            "Resolving github.com (github.com)... 192.30.255.113, 192.30.255.112\n",
            "Connecting to github.com (github.com)|192.30.255.113|:443... connected.\n",
            "HTTP request sent, awaiting response... 302 Found\n",
            "Location: https://raw.githubusercontent.com/irration/datasets/master/mnist-original.mat [following]\n",
            "--2018-07-21 08:33:37--  https://raw.githubusercontent.com/irration/datasets/master/mnist-original.mat\n",
            "Resolving raw.githubusercontent.com (raw.githubusercontent.com)... 151.101.0.133, 151.101.64.133, 151.101.128.133, ...\n",
            "Connecting to raw.githubusercontent.com (raw.githubusercontent.com)|151.101.0.133|:443... connected.\n",
            "HTTP request sent, awaiting response... 200 OK\n",
            "Length: 55440440 (53M) [application/octet-stream]\n",
            "Saving to: ‘mnist-original.mat’\n",
            "\n",
            "mnist-original.mat  100%[===================>]  52.87M  99.8MB/s    in 0.5s    \n",
            "\n",
            "2018-07-21 08:33:38 (99.8 MB/s) - ‘mnist-original.mat’ saved [55440440/55440440]\n",
            "\n"
          ],
          "name": "stdout"
        }
      ]
    },
    {
      "metadata": {
        "id": "RorSRdcc97uO",
        "colab_type": "code",
        "colab": {
          "base_uri": "https://localhost:8080/",
          "height": 35
        },
        "outputId": "313fe58f-2f97-40d9-fa50-6de54eb7a89c"
      },
      "cell_type": "code",
      "source": [
        "validate_homework()\n",
        "  # score_homework()"
      ],
      "execution_count": 191,
      "outputs": [
        {
          "output_type": "stream",
          "text": [
            "0.8598000130852569\n"
          ],
          "name": "stdout"
        }
      ]
    },
    {
      "metadata": {
        "id": "NSvGsQHC-Pix",
        "colab_type": "code",
        "colab": {}
      },
      "cell_type": "code",
      "source": [
        ""
      ],
      "execution_count": 0,
      "outputs": []
    }
  ]
}