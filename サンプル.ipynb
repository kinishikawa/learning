{
  "nbformat": 4,
  "nbformat_minor": 0,
  "metadata": {
    "colab": {
      "name": "Untitled1.ipynb",
      "version": "0.3.2",
      "provenance": [],
      "include_colab_link": true
    }
  },
  "cells": [
    {
      "cell_type": "markdown",
      "metadata": {
        "id": "view-in-github",
        "colab_type": "text"
      },
      "source": [
        "[View in Colaboratory](https://colab.research.google.com/github/kinishikawa/learning/blob/master/%E3%82%B5%E3%83%B3%E3%83%97%E3%83%AB.ipynb)"
      ]
    },
    {
      "metadata": {
        "id": "2r9UWimFGGAn",
        "colab_type": "code",
        "colab": {
          "base_uri": "https://localhost:8080/",
          "height": 35
        },
        "outputId": "b59cd6c4-711e-477d-fdbf-3de2ce6d8628"
      },
      "cell_type": "code",
      "source": [
        "i=1\n",
        "j=3\n",
        "i+j"
      ],
      "execution_count": 1,
      "outputs": [
        {
          "output_type": "execute_result",
          "data": {
            "text/plain": [
              "4"
            ]
          },
          "metadata": {
            "tags": []
          },
          "execution_count": 1
        }
      ]
    }
  ]
}