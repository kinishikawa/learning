{
  "nbformat": 4,
  "nbformat_minor": 0,
  "metadata": {
    "colab": {
      "name": "lecture_chap4_homework_pub.ipynb",
      "version": "0.3.2",
      "provenance": [],
      "include_colab_link": true
    },
    "kernelspec": {
      "display_name": "Python 3",
      "language": "python",
      "name": "python3"
    }
  },
  "cells": [
    {
      "cell_type": "markdown",
      "metadata": {
        "id": "view-in-github",
        "colab_type": "text"
      },
      "source": [
        "[View in Colaboratory](https://colab.research.google.com/github/kinishikawa/learning/blob/master/lecture_chap4_homework_pub.ipynb)"
      ]
    },
    {
      "metadata": {
        "id": "jjL57BDz97uA",
        "colab_type": "text"
      },
      "cell_type": "markdown",
      "source": [
        "# 第4回講義 宿題"
      ]
    },
    {
      "metadata": {
        "id": "ARbCOn3t97uB",
        "colab_type": "text"
      },
      "cell_type": "markdown",
      "source": [
        "## 課題. MNISTデータセットを多層パーセプトロン(MLP)で学習せよ"
      ]
    },
    {
      "metadata": {
        "id": "1Qka3eJm97uB",
        "colab_type": "text"
      },
      "cell_type": "markdown",
      "source": [
        "### 注意\n",
        "- homework関数を完成させて提出してください\n",
        "    - 訓練データはtrain_X, train_y, テストデータはtest_Xで与えられます\n",
        "    - train_Xとtrain_yをtrain_X, train_yとvalid_X, valid_yに分けるなどしてモデルを学習させてください\n",
        "    - test_Xに対して予想ラベルpred_yを作り, homework関数の戻り値としてください\\\n",
        "- pred_yのtest_yに対する精度(F値)で評価します\n",
        "- 全体の実行時間がiLect上で60分を超えないようにしてください\n",
        "- homework関数の外には何も書かないでください (必要なものは全てhomework関数に入れてください)\n",
        "- 解答提出時には Answer Cell の内容のみを提出してください"
      ]
    },
    {
      "metadata": {
        "id": "Li25s12M97uC",
        "colab_type": "text"
      },
      "cell_type": "markdown",
      "source": [
        "- MLPの実装にTensorflowなどのライブラリを使わないでください"
      ]
    },
    {
      "metadata": {
        "id": "5M2v-4fz97uD",
        "colab_type": "text"
      },
      "cell_type": "markdown",
      "source": [
        "### ヒント\n",
        "- 出力yはラベルのリスト（one hotではない）\n",
        "- 最終層の活性化関数はソフトマックス関数, 誤差関数は多クラス交差エントロピー\n",
        "- 最終層のデルタは教科書参照"
      ]
    },
    {
      "metadata": {
        "id": "AdEgOs4a97uE",
        "colab_type": "text"
      },
      "cell_type": "markdown",
      "source": [
        "次のセルのhomework関数を完成させて提出してください"
      ]
    },
    {
      "metadata": {
        "id": "tsnvpnI797uF",
        "colab_type": "text"
      },
      "cell_type": "markdown",
      "source": [
        "# Answer Cell"
      ]
    },
    {
      "metadata": {
        "id": "EY7gse7U97uG",
        "colab_type": "code",
        "colab": {}
      },
      "cell_type": "code",
      "source": [
        "def homework(train_X, train_y, test_X):\n",
        "    # WRITE ME!\n",
        "    return pred_y"
      ],
      "execution_count": 0,
      "outputs": []
    },
    {
      "metadata": {
        "id": "bt-JcQrg97uK",
        "colab_type": "text"
      },
      "cell_type": "markdown",
      "source": [
        "- 以下のvalidate_homework関数を用いてエラーが起きないか動作確認をして下さい。\n",
        "- 提出に際して、score_homework関数で60分で実行が終わることを確認して下さい。\n",
        "- 評価は以下のscore_homework関数で行われますが、random_stateの値は変更されます。"
      ]
    },
    {
      "metadata": {
        "id": "6y-4rAPa97uL",
        "colab_type": "text"
      },
      "cell_type": "markdown",
      "source": [
        "# Checker Cell (for student)"
      ]
    },
    {
      "metadata": {
        "id": "8mK9IYUY97uM",
        "colab_type": "code",
        "colab": {}
      },
      "cell_type": "code",
      "source": [
        "from sklearn.utils import shuffle\n",
        "from sklearn.metrics import f1_score\n",
        "from sklearn.datasets import fetch_mldata\n",
        "from sklearn.model_selection import train_test_split\n",
        "\n",
        "import numpy as np\n",
        "\n",
        "!mkdir scikit_learn_data\n",
        "!mkdir scikit_learn_data/mldata\n",
        "!cd scikit_learn_data/mldata && wget -O \"mnist-original.mat\" \"https://github.com/irration/datasets/raw/master/mnist-original.mat\"\n",
        "\n",
        "def load_mnist():\n",
        "    mnist = fetch_mldata('MNIST original', data_home='./scikit_learn_data')\n",
        "    mnist_X, mnist_y = shuffle(mnist.data.astype('float32'),\n",
        "                               mnist.target.astype('int32'), random_state=42)\n",
        "\n",
        "    mnist_X = mnist_X / 255.0\n",
        "\n",
        "    return train_test_split(mnist_X, mnist_y,\n",
        "                test_size=0.2,\n",
        "                random_state=42)\n",
        "\n",
        "def validate_homework():\n",
        "    train_X, test_X, train_y, test_y = load_mnist()\n",
        "\n",
        "    # validate for small dataset\n",
        "    train_X_mini = train_X[:100]\n",
        "    train_y_mini = train_y[:100]\n",
        "    test_X_mini = test_X[:100]\n",
        "    test_y_mini = test_y[:100]\n",
        "\n",
        "    pred_y = homework(train_X_mini, train_y_mini, test_X_mini)\n",
        "    print(f1_score(test_y_mini, pred_y, average='macro'))\n",
        "\n",
        "def score_homework():\n",
        "    train_X, test_X, train_y, test_y = load_mnist()\n",
        "    pred_y = homework(train_X, train_y, test_X)\n",
        "    print(f1_score(test_y, pred_y, average='macro'))"
      ],
      "execution_count": 0,
      "outputs": []
    },
    {
      "metadata": {
        "id": "RorSRdcc97uO",
        "colab_type": "code",
        "colab": {}
      },
      "cell_type": "code",
      "source": [
        "validate_homework()\n",
        "# score_homework()"
      ],
      "execution_count": 0,
      "outputs": []
    },
    {
      "metadata": {
        "id": "NSvGsQHC-Pix",
        "colab_type": "code",
        "colab": {}
      },
      "cell_type": "code",
      "source": [
        ""
      ],
      "execution_count": 0,
      "outputs": []
    }
  ]
}