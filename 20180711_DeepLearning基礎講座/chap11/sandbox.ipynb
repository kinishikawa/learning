{
 "cells": [
  {
   "cell_type": "markdown",
   "metadata": {},
   "source": [
    "#### PASCAL sentence"
   ]
  },
  {
   "cell_type": "markdown",
   "metadata": {},
   "source": [
    "PASCAL sentenceを http://vision.cs.uiuc.edu/pascal-sentences/ からスクレイピングして保存"
   ]
  },
  {
   "cell_type": "markdown",
   "metadata": {},
   "source": [
    "画像を224x224にリサイズして保存"
   ]
  },
  {
   "cell_type": "code",
   "execution_count": null,
   "metadata": {
    "collapsed": true
   },
   "outputs": [],
   "source": [
    "%matplotlib inline\n",
    "import re\n",
    "import os\n",
    "import sys\n",
    "import urllib\n",
    "from tqdm import tqdm\n",
    "\n",
    "from PIL import Image\n",
    "import matplotlib.pyplot as plt\n",
    "import numpy as np\n",
    "from scipy.misc import imresize"
   ]
  },
  {
   "cell_type": "code",
   "execution_count": null,
   "metadata": {
    "collapsed": true
   },
   "outputs": [],
   "source": [
    "url = 'http://vision.cs.uiuc.edu/pascal-sentences/'\n",
    "IMG_DIR = './images'\n",
    "fp = urllib.request.urlopen(url)\n",
    "html = str(fp.read())\n",
    "fp.close()"
   ]
  },
  {
   "cell_type": "code",
   "execution_count": null,
   "metadata": {
    "collapsed": true
   },
   "outputs": [],
   "source": [
    "def download_img(directory, url):\n",
    "    img = urllib.request.urlopen(url)\n",
    "    file_path = os.path.join(directory, os.path.basename(url))\n",
    "    localfile = open(file_path, 'wb')\n",
    "    localfile.write(img.read())\n",
    "    img.close()\n",
    "    localfile.close()"
   ]
  },
  {
   "cell_type": "code",
   "execution_count": null,
   "metadata": {
    "collapsed": true
   },
   "outputs": [],
   "source": [
    "img_ptn = r'src=\\\".*?\\.jpg'\n",
    "img_urls = [url+re.sub(r'src=\\\"', '', com) for com in re.findall(img_ptn, html)]\n",
    "\n",
    "for url in tqdm(img_urls):\n",
    "    download_img(IMG_DIR, url)"
   ]
  },
  {
   "cell_type": "code",
   "execution_count": null,
   "metadata": {
    "collapsed": true
   },
   "outputs": [],
   "source": [
    "img_paths = [com for com in os.listdir('./images/') if '.jpg' in com]\n",
    "\n",
    "data = []\n",
    "for img_path in tqdm(img_paths):\n",
    "    img = np.array(Image.open(os.path.join(IMG_DIR, img_path)))\n",
    "    img = imresize(img, (224, 224))\n",
    "    data.append(img)\n",
    "data = np.array(data)\n",
    "\n",
    "np.save('./pascal_images', data)"
   ]
  },
  {
   "cell_type": "markdown",
   "metadata": {},
   "source": [
    "キャプションを保存"
   ]
  },
  {
   "cell_type": "code",
   "execution_count": null,
   "metadata": {
    "collapsed": true
   },
   "outputs": [],
   "source": [
    "def tokenize(sentence):\n",
    "    sentence = re.sub(r'\\.', ' .', sentence)\n",
    "    sentence = re.sub(r',', ' ,', sentence)\n",
    "    sentence = re.sub(r'\\'s', ' \\'s', sentence)\n",
    "    return '<s> ' + sentence + ' </s>'"
   ]
  },
  {
   "cell_type": "code",
   "execution_count": null,
   "metadata": {
    "collapsed": true
   },
   "outputs": [],
   "source": [
    "cap_ptn = re.compile(r'\\<td\\>\\<table\\>\\n\\<tr\\>.*?\\<\\/td\\>', re.MULTILINE|re.DOTALL)\n",
    "captions = [re.sub(r'(<.*?>|\\n)', '', com)[1:] for com in re.findall(cap_ptn, html)]\n",
    "captions = '\\n'.join([tokenize(com) for com in captions])\n",
    "\n",
    "with open('./pascal_captions.txt', 'w') as f:\n",
    "    f.write(captions)"
   ]
  },
  {
   "cell_type": "markdown",
   "metadata": {},
   "source": [
    "#### MS COCO"
   ]
  },
  {
   "cell_type": "code",
   "execution_count": 1,
   "metadata": {
    "collapsed": true
   },
   "outputs": [],
   "source": [
    "import json\n",
    "from pycocotools.coco import COCO\n",
    "\n",
    "import re\n",
    "import os\n",
    "import sys\n",
    "import urllib\n",
    "from tqdm import tqdm\n",
    "\n",
    "from PIL import Image\n",
    "import matplotlib.pyplot as plt\n",
    "import numpy as np\n",
    "from scipy.misc import imresize\n",
    "from nltk.tokenize import word_tokenize\n",
    "\n",
    "IMG_DIR = '/home/fujino/ail/train2014/'"
   ]
  },
  {
   "cell_type": "code",
   "execution_count": 2,
   "metadata": {
    "collapsed": true
   },
   "outputs": [],
   "source": [
    "data = json.load(open('/home/fujino/ail/annotations/captions_train2014.json'))"
   ]
  },
  {
   "cell_type": "code",
   "execution_count": 3,
   "metadata": {},
   "outputs": [
    {
     "name": "stdout",
     "output_type": "stream",
     "text": [
      "loading annotations into memory...\n",
      "Done (t=1.16s)\n",
      "creating index...\n",
      "index created!\n"
     ]
    }
   ],
   "source": [
    "# initialize COCO api for caption annotations\n",
    "annFile = '/home/fujino/ail/annotations/captions_train2014.json'\n",
    "coco_caps=COCO(annFile)"
   ]
  },
  {
   "cell_type": "code",
   "execution_count": 4,
   "metadata": {
    "collapsed": true
   },
   "outputs": [],
   "source": [
    "def get_resized_image(file_name):\n",
    "    image = np.array(Image.open(os.path.join(IMG_DIR, file_name)))\n",
    "    return imresize(image, (224, 224))"
   ]
  },
  {
   "cell_type": "code",
   "execution_count": 5,
   "metadata": {
    "scrolled": true
   },
   "outputs": [
    {
     "name": "stderr",
     "output_type": "stream",
     "text": [
      "100%|██████████| 82783/82783 [23:55<00:00, 57.68it/s]  \n"
     ]
    }
   ],
   "source": [
    "captions = ''\n",
    "images = []\n",
    "\n",
    "for datum in tqdm(data['images']):\n",
    "    # Image\n",
    "    image = get_resized_image(datum['file_name'])\n",
    "    if image.shape != (224, 224, 3):\n",
    "        continue\n",
    "    images.append(image)\n",
    "\n",
    "    # Caption\n",
    "    annIds = coco_caps.getAnnIds(imgIds=datum['id'])\n",
    "    anns = coco_caps.loadAnns(annIds)\n",
    "    caption = anns[0]['caption']\n",
    "    captions += '<s> ' + ' '.join(word_tokenize(caption.lower())) + ' </s>\\n'"
   ]
  },
  {
   "cell_type": "code",
   "execution_count": null,
   "metadata": {
    "collapsed": true
   },
   "outputs": [],
   "source": [
    "# mscoco_images = np.array(images)"
   ]
  },
  {
   "cell_type": "code",
   "execution_count": null,
   "metadata": {
    "collapsed": true
   },
   "outputs": [],
   "source": [
    "# np.save('mscoco_images', mscoco_images)"
   ]
  },
  {
   "cell_type": "code",
   "execution_count": 6,
   "metadata": {
    "collapsed": true
   },
   "outputs": [],
   "source": [
    "with open('mscoco_captions.txt', 'w') as f:\n",
    "    f.write(captions)"
   ]
  },
  {
   "cell_type": "code",
   "execution_count": null,
   "metadata": {
    "collapsed": true
   },
   "outputs": [],
   "source": []
  }
 ],
 "metadata": {
  "kernelspec": {
   "display_name": "Python 3",
   "language": "python",
   "name": "python3"
  },
  "language_info": {
   "codemirror_mode": {
    "name": "ipython",
    "version": 3
   },
   "file_extension": ".py",
   "mimetype": "text/x-python",
   "name": "python",
   "nbconvert_exporter": "python",
   "pygments_lexer": "ipython3",
   "version": "3.5.2"
  }
 },
 "nbformat": 4,
 "nbformat_minor": 2
}
