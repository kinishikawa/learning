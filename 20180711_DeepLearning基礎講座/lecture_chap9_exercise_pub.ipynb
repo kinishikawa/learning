{
 "cells": [
  {
   "cell_type": "markdown",
   "metadata": {
    "deletable": true,
    "editable": true
   },
   "source": [
    "# 第9回講義 演習"
   ]
  },
  {
   "cell_type": "code",
   "execution_count": 1,
   "metadata": {
    "collapsed": false,
    "deletable": true,
    "editable": true
   },
   "outputs": [
    {
     "name": "stderr",
     "output_type": "stream",
     "text": [
      "Using TensorFlow backend.\n"
     ]
    }
   ],
   "source": [
    "import numpy as np\n",
    "import tensorflow as tf\n",
    "from sklearn.utils import shuffle\n",
    "from sklearn.metrics import f1_score\n",
    "from sklearn.model_selection import train_test_split\n",
    "from keras.datasets import imdb\n",
    "from keras.preprocessing.sequence import pad_sequences\n",
    "\n",
    "rng = np.random.RandomState(1234)"
   ]
  },
  {
   "cell_type": "markdown",
   "metadata": {
    "deletable": true,
    "editable": true
   },
   "source": [
    "## 課題1. グラフ上でのLoop"
   ]
  },
  {
   "cell_type": "markdown",
   "metadata": {
    "deletable": true,
    "editable": true
   },
   "source": [
    "tensorflowの計算グラフ上でloop構造を実現するには, `tf.scan`関数を使用します"
   ]
  },
  {
   "cell_type": "markdown",
   "metadata": {
    "deletable": true,
    "editable": true
   },
   "source": [
    "#### tf.scan関数\n",
    "- 主な引数\n",
    "    - fn: 入力系列に適用する関数\n",
    "    - elems: 入力系列 (第0軸方向に走査していく)\n",
    "    - initializer: 最初の引数\n",
    "    \n",
    "参考:\n",
    "https://www.tensorflow.org/api_docs/python/tf/scan"
   ]
  },
  {
   "cell_type": "markdown",
   "metadata": {
    "deletable": true,
    "editable": true
   },
   "source": [
    "#### tf.scanの機能と注意事項\n",
    "\n",
    "まず, 入力系列に対して適用する関数fnは, fn(a, x)といった様に, 2つの引数を持つものである必要があります.\n",
    "\n",
    "この2つの引数にはそれぞれ役割があり, 次のようになっています.\n",
    "  - 第1引数: 前ステップのfnの出力\n",
    "  - 第2引数: 今ステップの入力(elems)\n",
    "  \n",
    "つまり, 出力される系列は, 例えばelemsの長さがNであれば,\n",
    "\n",
    "$f_1={\\rm fn}(initializer, elems[0])$\n",
    "\n",
    "$f_2={\\rm fn}(f_1, elems[1])$\n",
    "\n",
    "$f_3={\\rm fn}(f_2, elems[2])$\n",
    "\n",
    "$\\vdots$\n",
    "\n",
    "$f_N={\\rm fn}(f_{N-1}, elems[N-1])$\n",
    "\n",
    "ということになります."
   ]
  },
  {
   "cell_type": "markdown",
   "metadata": {
    "deletable": true,
    "editable": true
   },
   "source": [
    "#### 例:Accumulation function for vector"
   ]
  },
  {
   "cell_type": "code",
   "execution_count": null,
   "metadata": {
    "collapsed": true,
    "deletable": true,
    "editable": true,
    "scrolled": true
   },
   "outputs": [],
   "source": [
    "x = tf.placeholder(tf.float32)\n",
    "\n",
    "def fn(a, x):\n",
    "    return a + x\n",
    "\n",
    "res = tf.scan(fn=fn, elems=x)"
   ]
  },
  {
   "cell_type": "code",
   "execution_count": null,
   "metadata": {
    "collapsed": false,
    "deletable": true,
    "editable": true
   },
   "outputs": [],
   "source": [
    "with tf.Session() as sess:\n",
    "    print(sess.run(res, feed_dict={x: np.array([1, 2, 3, 4, 5, 6])}))"
   ]
  },
  {
   "cell_type": "markdown",
   "metadata": {
    "deletable": true,
    "editable": true
   },
   "source": [
    "#### 例:Accumulation function for matrix"
   ]
  },
  {
   "cell_type": "code",
   "execution_count": null,
   "metadata": {
    "collapsed": true,
    "deletable": true,
    "editable": true
   },
   "outputs": [],
   "source": [
    "x = tf.placeholder(tf.float32)\n",
    "\n",
    "def fn(a, x):\n",
    "    return a + x\n",
    "\n",
    "res = tf.scan(fn=fn, elems=x)"
   ]
  },
  {
   "cell_type": "code",
   "execution_count": null,
   "metadata": {
    "collapsed": false,
    "deletable": true,
    "editable": true
   },
   "outputs": [],
   "source": [
    "with tf.Session() as sess:\n",
    "    print(sess.run(res, feed_dict={\n",
    "            x: np.array([[1, 2, 3, 4, 5],\n",
    "                         [1, 2, 3, 4, 5],\n",
    "                         [1, 2, 3, 4, 5]])\n",
    "    }))"
   ]
  },
  {
   "cell_type": "markdown",
   "metadata": {
    "deletable": true,
    "editable": true
   },
   "source": [
    "#### 例: initializer\n",
    "* tf.scanのinitializerという引数で，loop構造の初期値を明示的に指定します．特にinitializerが指定されない場合は，上記のように入力系列の最初が初期値となります．"
   ]
  },
  {
   "cell_type": "code",
   "execution_count": null,
   "metadata": {
    "collapsed": true,
    "deletable": true,
    "editable": true
   },
   "outputs": [],
   "source": [
    "x = (tf.placeholder(tf.float32), tf.placeholder(tf.float32))\n",
    "init = tf.placeholder(tf.float32)\n",
    "\n",
    "def fn(a, x):\n",
    "    return x[0] - x[1] + a\n",
    "\n",
    "res = tf.scan(fn=fn, elems=x, initializer=init)"
   ]
  },
  {
   "cell_type": "code",
   "execution_count": null,
   "metadata": {
    "collapsed": false,
    "deletable": true,
    "editable": true
   },
   "outputs": [],
   "source": [
    "elems = np.array([1, 2, 3, 4, 5, 6])\n",
    "with tf.Session() as sess:\n",
    "    print(sess.run(res, feed_dict={\n",
    "            x: (elems+1, elems),\n",
    "            init: np.array(0)\n",
    "    }))"
   ]
  },
  {
   "cell_type": "markdown",
   "metadata": {
    "deletable": true,
    "editable": true
   },
   "source": [
    "#### 例: フィボナッチ数列（initializerを利用）\n",
    "$F_0 = 0,$\n",
    "$F_1 = 1,$\n",
    "$F_{n + 2} = F_n + F_{n + 1} (n ≧ 0)$"
   ]
  },
  {
   "cell_type": "code",
   "execution_count": null,
   "metadata": {
    "collapsed": true,
    "deletable": true,
    "editable": true
   },
   "outputs": [],
   "source": [
    "x = tf.placeholder(tf.float32)\n",
    "init = (tf.placeholder(tf.float32), tf.placeholder(tf.float32))\n",
    "\n",
    "def fn(a, _):\n",
    "    return # WRITE ME!\n",
    "\n",
    "res =# WRITE ME!\n",
    "\n",
    "# fibonaccis == ([1, 1, 2, 3, 5, 8], [1, 2, 3, 5, 8, 13])"
   ]
  },
  {
   "cell_type": "code",
   "execution_count": null,
   "metadata": {
    "collapsed": false,
    "deletable": true,
    "editable": true
   },
   "outputs": [],
   "source": [
    "with tf.Session() as sess:\n",
    "    print(sess.run(res, feed_dict={\n",
    "            x: np.array([0, 0, 0, 0, 0, 0]),\n",
    "            init: (np.array(0), np.array(1))\n",
    "    }))"
   ]
  },
  {
   "cell_type": "markdown",
   "metadata": {
    "deletable": true,
    "editable": true
   },
   "source": [
    "## 課題2. Recurrent Neural Network (RNN) によるIMDbのsentiment analysis"
   ]
  },
  {
   "cell_type": "markdown",
   "metadata": {
    "deletable": true,
    "editable": true
   },
   "source": [
    "IMDb (Internet Movie Database) と呼ばれる映画レビューのデータセットで\n",
    "\n",
    "各レビュー文の評価がpositiveかnegativeかをRNNを用いて予測してみましょう.\n",
    "\n",
    "<div style=\"text-align: center;\">【データセットのイメージ】</div>\n",
    "\n",
    "| レビュー | 評価 |\n",
    "|:--------:|:-------------:|\n",
    "|Where's Michael Caine when you need him? I've ...|negative|\n",
    "|To experience Head you really need to understa...|positive|\n",
    "\n",
    "※実際には各単語が出現頻度順位で数字に置き換えられたものがXとして, 評価をnegativeなら0, positiveなら1に置き換えたものがyとして入ることになります."
   ]
  },
  {
   "cell_type": "markdown",
   "metadata": {
    "deletable": true,
    "editable": true
   },
   "source": [
    "### 1. データセットの読み込み"
   ]
  },
  {
   "cell_type": "code",
   "execution_count": 2,
   "metadata": {
    "collapsed": false,
    "deletable": true,
    "editable": true
   },
   "outputs": [
    {
     "name": "stdout",
     "output_type": "stream",
     "text": [
      "Downloading data from https://s3.amazonaws.com/text-datasets/imdb.npz\n",
      "17465344/17464789 [==============================] - 0s 0us/step\n"
     ]
    }
   ],
   "source": [
    "# 出現頻度上位num_words番までのみを扱う. それ以外は丸ごと1つの定数に置き換え(0:start_char, 1:oov_char, 2~:word_index)\n",
    "num_words = 10000\n",
    "(train_X, train_y), (test_X, test_y) = imdb.load_data(num_words=num_words, start_char=0, oov_char=1, index_from=2)\n",
    "\n",
    "# split data into training and validation\n",
    "train_X, valid_X, train_y, valid_y = train_test_split(train_X, train_y, test_size=0.2, random_state=42)\n",
    "\n",
    "# データセットサイズが大きいので演習用に短縮\n",
    "train_X = train_X[:len(train_X)//2]\n",
    "train_y = train_y[:len(train_y)//2]\n",
    "valid_X = valid_X[:len(valid_X)//2]\n",
    "valid_y = valid_y[:len(valid_y)//2]"
   ]
  },
  {
   "cell_type": "code",
   "execution_count": 11,
   "metadata": {},
   "outputs": [
    {
     "data": {
      "text/plain": [
       "array([ list([0, 72, 88, 80, 24, 59, 966, 5, 19, 140, 16, 13, 30, 126, 11, 59, 27, 1359, 1106, 65, 44, 5, 19, 14, 496, 7, 78, 16, 490, 7, 111, 5, 6682, 19, 16, 613, 690, 3, 435, 19, 8, 2854, 5, 761, 6, 492, 8620, 5, 184, 249, 23, 54, 2275, 4, 22, 349, 6, 14, 81, 23, 14, 820, 65, 9, 9, 44, 577, 14, 3, 19, 804, 7, 29, 16, 820, 4, 1620, 16, 613, 189, 3, 19, 8, 42, 31, 98, 1213, 17, 14, 7, 156, 45, 16, 1435, 3, 1, 4, 1, 8, 31, 1795, 4, 1213, 266, 16, 72, 16, 4412, 35, 25, 399, 42, 4561, 82, 3, 1872, 246, 73, 82, 3, 249, 539, 81, 3, 95, 3, 249, 8305, 7, 31, 3, 1, 8, 183, 3965, 12, 383, 47, 13, 15, 146, 1347, 58, 61, 68, 9419, 11, 45, 49, 8, 52, 1, 73, 1929, 10, 13, 30, 150, 9, 9, 3, 19, 8, 539, 363, 351, 4, 44, 5, 1, 588, 32, 268, 7, 2714, 141, 1620, 4, 820, 16, 72, 16, 203, 4, 2907, 18, 54, 1762, 4696, 91, 65, 103, 13, 19, 92, 75, 1487, 150, 32, 3, 57, 11, 187, 625, 150, 11, 214, 68, 223, 141, 72, 236, 5, 963, 6, 1445, 2288, 187, 625, 102, 13, 30, 9, 9, 450, 6, 1464, 4, 598, 79, 90, 1328, 29, 684, 33, 13, 19, 150, 49, 25, 130, 48, 7716, 83, 45, 49, 36, 79, 78, 5, 1967, 45, 6, 13, 19, 9, 9, 469, 157]),\n",
       "       list([0, 136, 3, 203, 85, 540, 68, 93, 229, 4189, 387, 11, 15, 32, 221, 1126, 10, 530, 10, 3955, 85, 540, 172, 1529, 3, 4267, 8, 1, 54, 75, 1645, 699, 273, 205, 1, 8, 483, 5481, 2090, 3174, 1, 5810, 460, 37, 1, 14, 49, 69, 29, 56, 823, 28, 79, 3114, 10, 26, 1972, 42, 39, 100, 84, 656, 1, 1, 6, 14, 57, 962, 1330, 4709, 2996, 1, 766, 1, 3955, 85, 540, 172, 1529, 1, 45, 93, 204, 4940, 17, 146, 2317, 33, 5266, 5, 631, 98, 1, 7, 1091, 17, 47, 24, 69, 375, 38, 3, 680, 139, 14, 3955, 8, 169, 7, 9512, 45, 3102, 6, 2542, 1339, 50, 8, 316, 7, 78, 2228, 43, 9, 9, 8743, 102, 3, 686, 6, 3, 85, 19, 307, 1467, 3955, 1, 5810, 8, 2563, 5, 1, 47, 28, 79, 2882, 5, 1, 4651, 10, 3, 229, 2923, 3, 290, 8, 6060, 4, 5, 1972, 8, 111, 6748, 7, 168, 45, 47, 49, 25, 100, 297, 1, 130, 2604, 10, 3, 1, 6, 2570, 3955, 8, 8058, 7, 192, 3, 291, 33, 26, 153, 7122, 4407, 1, 744, 9244, 20, 3, 7074, 8, 164, 3, 1, 6, 5, 1371, 4266, 1, 33, 5342, 1, 1393, 1, 1, 291, 8, 1532, 7, 418, 17, 5, 1171, 1249, 10, 3, 2686, 4, 807, 45, 47, 11, 1366, 100, 297, 1, 474, 47, 11, 151, 28, 8, 7, 1, 18, 5, 1, 47, 11, 126, 28, 8, 7, 78, 1, 2313, 6, 67, 2010, 37, 14, 35, 69, 29, 6589, 32, 5, 302, 1303, 1, 89, 10, 26, 2681, 8, 5, 760, 1630, 18, 718, 1856, 3, 306, 4, 1, 1000, 1, 2685, 1, 251, 194, 3955, 2146, 14, 49, 25, 1, 10, 3, 1249, 20, 28, 1, 26, 4003, 33, 1, 30, 6, 1, 53, 28, 4230, 3, 1, 212, 3, 2231, 1, 1, 89, 22, 3, 4003, 6, 1, 36, 11, 185, 151, 65, 180, 7, 168, 100, 1, 87, 6, 3, 992, 4, 1247, 1, 3955, 8, 2003, 33, 3, 2542, 4, 3809, 20, 1044, 34, 6979, 1089, 28, 731, 45, 7, 878, 3, 1, 4, 78, 26, 1059, 22, 3, 1, 1, 9, 9, 3, 170, 51, 756, 6, 3, 21, 215, 38, 717, 1, 4905, 1380, 1515, 1, 1, 602, 4, 3, 2098, 1, 6, 3, 3409, 767, 10, 3461, 997, 205, 3870, 723, 133, 1, 1, 3, 21, 8, 5, 2103, 3, 155, 25, 3746, 7, 5625, 1, 3, 113, 2665, 2555, 3, 205, 843, 25, 9994, 4, 1, 3, 413, 8, 1, 59, 3, 566, 460, 8950, 726, 32, 3, 57, 6, 93, 765, 937, 15, 466, 3, 1, 6, 6267, 7851, 5, 131, 18, 4273, 4, 750, 3790, 1209, 4236, 9891, 17, 13, 281, 2391, 1220, 1, 55, 13, 1, 6396, 1204, 3339, 16, 47, 11, 15, 3, 832, 19, 6, 31, 57, 1, 11, 82, 34, 1, 952, 1051, 1022, 2669, 210, 27, 1193, 474, 2888, 74, 69, 167, 724, 11, 16, 5, 605, 2970, 205, 508, 18, 5, 1, 311, 647, 1581, 1, 994, 2419, 4, 5, 2760, 631]),\n",
       "       list([0, 863, 12, 1609, 13, 19, 87, 6, 3, 166, 28, 46, 92, 48, 220, 1553, 10, 3, 500, 47, 24, 773, 109, 1, 24, 25, 1011, 5, 252, 1364, 552, 12, 68, 60, 4991, 43, 13, 19, 38, 3, 453, 20, 12, 871, 7, 2776, 11, 55, 4, 201, 11, 5, 167, 44, 77, 54, 77, 47, 24, 773, 109, 3, 19, 4, 91, 329, 1027, 331, 1403, 85, 6, 31, 3, 153, 659, 1, 190, 1918, 5, 273, 33, 44, 1, 7452, 132, 3, 952, 17, 13, 508, 185, 7, 7146, 14, 6360, 8, 3, 1653, 1674, 18, 195, 1152, 18, 3567, 3, 144, 6, 3, 952, 46, 5, 645, 323, 6, 3, 766, 5920, 6360, 4, 48, 84, 664, 3, 2785, 165, 24, 180, 7, 850, 3, 19, 87, 11, 933, 51, 24, 379, 148, 11, 4, 1086, 24, 168, 45, 14, 3, 19, 303, 272, 5345, 10, 6084, 6360, 8, 5, 963, 911, 36, 8, 23, 3, 249, 22, 3, 1107, 3, 19, 8, 23, 178, 16, 726, 16, 24, 61, 103, 4, 197, 23, 5, 51, 154, 104, 80, 37, 110, 378, 182, 208, 100, 1, 6, 3665, 44, 2267, 7, 105, 157, 233, 158, 3, 129, 6, 3, 19, 4961, 4, 159, 760, 27, 382, 17, 56, 51, 281, 81, 50, 15, 3, 212, 6, 259, 4961, 515, 13, 84, 760, 10, 1042, 540, 36, 68, 76, 2759, 89, 2046, 1, 3, 166, 143, 27, 109, 5, 4215, 53, 28, 331, 3, 228, 68, 11, 76, 269, 10, 3, 5592, 6, 3, 161, 1, 4, 92, 3, 104, 2806, 1088, 11, 237, 27, 76, 541, 7, 269, 11, 10, 3, 1699, 165, 56, 280, 4, 46, 56, 7381, 22, 3, 64, 1688, 797, 11]),\n",
       "       ...,\n",
       "       list([0, 12, 91, 123, 137, 13, 46, 3, 450, 11, 126, 4, 12, 91, 123, 137, 12, 27, 59, 347, 11, 3, 602, 12, 27, 13, 8, 5399, 49, 25, 110, 5, 3948, 120, 30, 46, 7, 4983, 2792, 386, 3, 430, 1685, 4, 1276, 55, 18, 11, 1197, 158, 11, 460, 7646, 4, 48, 337, 567, 1908, 46, 7, 852, 1259, 50, 74, 27, 109, 20, 13, 46, 54, 116, 169, 17, 11, 4, 46, 5584, 843, 120, 163, 570, 4, 27, 56, 7192, 7, 232, 136, 74, 27, 7, 1631, 7, 5, 90, 3610, 815, 59, 33, 1121, 1552, 23, 5, 3948, 13, 8, 5, 600, 1, 8733, 6, 188, 1007, 1889, 1, 8034, 10, 30, 26, 90, 4143, 1, 1, 353, 12, 1, 28, 678, 55, 121, 5, 9971, 156, 4, 1, 124, 1199, 442, 1, 7, 78, 408, 7, 2232, 10, 1, 8, 6, 264, 183, 20, 56, 11, 8, 23, 194, 4, 10, 3, 129, 74, 27, 109, 229, 98, 75, 6, 40, 5657, 55, 31, 119, 3, 272, 195, 102, 74, 27, 339, 415, 601, 10, 13, 3090, 4, 1947, 1, 278, 12, 42, 285, 10, 3, 207, 1309]),\n",
       "       list([0, 12, 472, 7, 2301, 1455, 41, 2357, 12, 446, 3, 1701, 11, 8, 3, 248, 19, 125, 92, 4, 1, 8, 3, 403, 680, 17, 11, 893, 49, 8, 141, 432, 14, 1, 114, 196, 6, 12, 243, 81, 32, 5, 1936, 7, 103, 6, 232, 1565, 194, 7, 5934, 1633, 3280, 3543, 3, 117, 14, 99, 29, 300, 6, 40, 8, 441, 4449]),\n",
       "       list([0, 102, 31, 133, 152, 6, 825, 1, 529, 1, 742, 6, 26, 1356, 21, 102, 21, 32, 235, 362, 1, 89, 34, 734, 1032, 9, 9, 703, 836, 1176, 55, 30, 313, 521, 4, 6, 264, 4279, 71, 45, 6, 60, 1, 1, 10, 60, 6752, 112, 88, 126, 28, 80, 11, 9, 9, 781, 173, 81, 8, 529, 10, 13, 242, 6, 296, 198, 1986, 1, 4909, 17, 2122, 9, 9, 6219, 7, 2132, 166, 176, 4, 369, 1050, 56, 593, 3, 1, 415, 7, 133, 2530, 1, 630, 1, 1769, 4373, 4351, 144, 10, 3, 1699, 53, 12, 1275, 2416, 4373, 15, 1049, 4, 426, 5722, 7, 1683, 12, 27, 1, 60, 5056, 9849, 4, 79, 4183, 17, 52, 405, 2271, 1507, 745, 545, 4, 408, 9, 9, 7725, 2079, 1945, 7, 27, 5, 7081, 5744, 4, 2079, 177, 7, 4289, 262, 204, 4263, 2853, 1, 4, 2474, 2496])], dtype=object)"
      ]
     },
     "execution_count": 11,
     "metadata": {},
     "output_type": "execute_result"
    }
   ],
   "source": [
    "train_X"
   ]
  },
  {
   "cell_type": "markdown",
   "metadata": {
    "deletable": true,
    "editable": true
   },
   "source": [
    "### 2. 可変長系列のミニバッチ化"
   ]
  },
  {
   "cell_type": "markdown",
   "metadata": {
    "deletable": true,
    "editable": true
   },
   "source": [
    "IMDbの各データは長さの異なるレビュー (の各単語を出現頻度順で数値化したもの) です. これに対してRNNを適用し, 最後の隠れ層ベクトルを元に二値分類をおこないます.\n",
    "\n",
    "この問題で異なる長さの系列をミニバッチ化する際には次の2つのことに注意する必要があります.\n",
    "\n",
    "- ミニバッチ内のデータの系列の長さをpaddingによって揃える.\n",
    "- paddingした部分の計算を無効にする"
   ]
  },
  {
   "cell_type": "markdown",
   "metadata": {
    "deletable": true,
    "editable": true
   },
   "source": [
    "#### 2.1. ミニバッチ内のデータの系列の長さをpaddingによって揃える."
   ]
  },
  {
   "cell_type": "markdown",
   "metadata": {
    "deletable": true,
    "editable": true
   },
   "source": [
    "異なる系列長のデータをミニバッチ(行列)に落とし込むために, ミニバッチ内の短い系列に対して頭orお尻にpaddingし長さを揃える必要があります. これは `keras` にある関数 `pad_sequences` を使うなどすればできます. またpaddingの量を少なくするために, あらかじめデータの長さで降順にソートしておくことが多いです."
   ]
  },
  {
   "cell_type": "markdown",
   "metadata": {
    "deletable": true,
    "editable": true
   },
   "source": [
    "#### 2.2. paddingした部分の計算を無効にする"
   ]
  },
  {
   "cell_type": "markdown",
   "metadata": {
    "deletable": true,
    "editable": true
   },
   "source": [
    "paddingの部分はあくまで系列長を合わせるためなので, 通常のRNNの計算はおこなわず, 何らかの形で計算を無効にする必要があります. ここではわかりやすい実装として, paddingの部分では代わりに前のステップの隠れ層をコピーするようにし, 実際の系列の最後の単語における隠れ層ベクトルを保持するようにします."
   ]
  },
  {
   "cell_type": "markdown",
   "metadata": {
    "deletable": true,
    "editable": true
   },
   "source": [
    "具体的には, 各インスタンスに対して実際に単語がある部分に1, ない部分(paddingの部分)に0を置くバイナリのマスク$m=[m_1, m_2, \\dots, m_t, \\dots, m_T]$をつくり,\n",
    "\n",
    "$$\n",
    "    h_t = m_t \\cdot \\sigma({\\bf W_x} x_t + {\\bf W_h} h_{t-1} + b) + (1-m_t) \\cdot h_{t-1}\n",
    "$$\n",
    "\n",
    "とします. こうすることでpaddingの部分では$h_t=h_{t-1}$となり, paddingの計算結果に対する影響がなくなります."
   ]
  },
  {
   "cell_type": "markdown",
   "metadata": {
    "deletable": true,
    "editable": true
   },
   "source": [
    "### 3. 各層クラスの実装"
   ]
  },
  {
   "cell_type": "markdown",
   "metadata": {
    "deletable": true,
    "editable": true
   },
   "source": [
    "#### 3.1. Embedding層\n",
    "\n",
    "Embedding層では, 単語を離散的なidから連続的な数百次元のベクトルに変換(埋め込み, embed)します.\n",
    "\n",
    "下のEmbeddingクラスにおいて, 入力`x`は各行に文の単語のid列が入った行列で, 重み`V`は各行がそれぞれの単語idのベクトルに対応した行列です. つまりそれぞれの行列のサイズは\n",
    "\n",
    "- `x`: (ミニバッチサイズ) x (ミニバッチ内の文の最大系列長)\n",
    "- `V`: (辞書の単語数) x (単語のベクトルの次元数)\n",
    "\n",
    "です.\n",
    "\n",
    "この`V`から, 入力`x`のそれぞれの単語idに対して対応する単語ベクトルを取り出すことで, 各単語をベクトルに変換します. \n",
    "\n",
    "`tf`では`tf.nn.embedding_lookup`によりこの作業を行います.この処理によって出力されるテンソルの次元数は，(ミニバッチサイズ) x (ミニバッチ内の文の最大系列長) x (単語のベクトルの次元数)となります（embedding層に関する詳細は，次の第10回講義で説明があります）．"
   ]
  },
  {
   "cell_type": "code",
   "execution_count": 3,
   "metadata": {
    "collapsed": true,
    "deletable": true,
    "editable": true
   },
   "outputs": [],
   "source": [
    "class Embedding:\n",
    "    def __init__(self, vocab_size, emb_dim, scale=0.08):\n",
    "        self.V = tf.Variable(rng.randn(vocab_size, emb_dim).astype('float32') * scale, name='V')\n",
    "\n",
    "    def f_prop(self, x):\n",
    "        return tf.nn.embedding_lookup(self.V, x)"
   ]
  },
  {
   "cell_type": "markdown",
   "metadata": {},
   "source": [
    "#### 3.2. RNN\n",
    "\n",
    "RNNクラスでは, Embedding層で各単語がベクトルに変換されたものを入力として処理を行います. ここで入力`x`は\n",
    "\n",
    "- `x`: (ミニバッチサイズ) x (ミニバッチ内の文の最大系列長) x (単語のベクトルの次元数)\n",
    "\n",
    "となっています. `tf.scan`では第0軸方向に走査していくので, 文の系列方向に沿って走査するために上の第0軸と第1軸を入れ替えて\n",
    "\n",
    "- `x`: (ミニバッチ内の文の最大系列長) x (ミニバッチサイズ) x (単語のベクトルの次元数)\n",
    "\n",
    "とします."
   ]
  },
  {
   "cell_type": "code",
   "execution_count": 4,
   "metadata": {
    "collapsed": true
   },
   "outputs": [],
   "source": [
    "#  Random orthogonal initializer (see [Saxe et al. 2013])\n",
    "def orthogonal_initializer(shape, scale = 1.0):\n",
    "    a = np.random.normal(0.0, 1.0, shape).astype(np.float32)\n",
    "    u, _, v = np.linalg.svd(a, full_matrices=False)\n",
    "    q = u if u.shape == shape else v\n",
    "    return scale * q"
   ]
  },
  {
   "cell_type": "code",
   "execution_count": 5,
   "metadata": {
    "collapsed": true,
    "deletable": true,
    "editable": true
   },
   "outputs": [],
   "source": [
    "class RNN:\n",
    "    def __init__(self, in_dim, hid_dim, m, scale=0.08):\n",
    "        self.in_dim = in_dim\n",
    "        self.hid_dim = hid_dim\n",
    "        # Xavier initializer\n",
    "        self.W_in = tf.Variable(rng.uniform(\n",
    "                        low=-np.sqrt(6/(in_dim + hid_dim)),\n",
    "                        high=np.sqrt(6/(in_dim + hid_dim)),\n",
    "                        size=(in_dim, hid_dim)\n",
    "                    ).astype('float32'), name='W_in')\n",
    "        # Random orthogonal initializer\n",
    "        self.W_re = tf.Variable(orthogonal_initializer((hid_dim, hid_dim)), name='W_re')\n",
    "        self.b_re = tf.Variable(tf.zeros([hid_dim], dtype=tf.float32), name='b_re')\n",
    "        self.m = m\n",
    "\n",
    "    def f_prop(self, x):\n",
    "        def fn(h_tml, x_and_m):\n",
    "            x = x_and_m[0]\n",
    "            m = x_and_m[1]\n",
    "            h_t = 'a'\n",
    "            return h_tml\n",
    "\n",
    "        # shape: [batch_size, sentence_length, in_dim] -> shape: [sentence_length, batch_size, in_dim]\n",
    "        _x = tf.transpose(x, perm=[1, 0, 2])\n",
    "        # shape: [batch_size, sentence_length] -> shape: [sentence_length, batch_size]\n",
    "        _m = tf.transpose(self.m)\n",
    "        h_0 = tf.matmul(x[:, 0, :], tf.zeros([self.in_dim, self.hid_dim])) # Initial state\n",
    "        \n",
    "        h = tf.scan(fn=fn, elems=[_x, _m], initializer=h_0)\n",
    "        \n",
    "        return h[-1] # Take the last state"
   ]
  },
  {
   "cell_type": "code",
   "execution_count": 6,
   "metadata": {
    "collapsed": true,
    "deletable": true,
    "editable": true
   },
   "outputs": [],
   "source": [
    "class Dense:\n",
    "    def __init__(self, in_dim, out_dim, function=lambda x: x):\n",
    "        # Xavier initializer\n",
    "        self.W = tf.Variable(rng.uniform(\n",
    "                        low=-np.sqrt(6/(in_dim + out_dim)),\n",
    "                        high=np.sqrt(6/(in_dim + out_dim)),\n",
    "                        size=(in_dim, out_dim)\n",
    "                    ).astype('float32'), name='W')\n",
    "        self.b = tf.Variable(np.zeros([out_dim]).astype('float32'))\n",
    "        self.function = function\n",
    "\n",
    "    def f_prop(self, x):\n",
    "        return self.function(tf.matmul(x, self.W) + self.b)"
   ]
  },
  {
   "cell_type": "markdown",
   "metadata": {
    "deletable": true,
    "editable": true
   },
   "source": [
    "### 4. 計算グラフ構築 & パラメータの更新設定"
   ]
  },
  {
   "cell_type": "code",
   "execution_count": 7,
   "metadata": {
    "collapsed": true,
    "deletable": true,
    "editable": true,
    "scrolled": false
   },
   "outputs": [],
   "source": [
    "emb_dim = 100\n",
    "hid_dim = 50\n",
    "\n",
    "x = tf.placeholder(tf.int32, [None, None], name='x')\n",
    "m = tf.cast(tf.not_equal(x, -1), tf.float32) # Mask. Paddingの部分(-1)は0, 他の値は1\n",
    "t = tf.placeholder(tf.float32, [None, None], name='t')\n",
    "\n",
    "layers = [\n",
    "    Embedding(num_words, emb_dim),\n",
    "    RNN(emb_dim, hid_dim, m=m),\n",
    "    Dense(hid_dim, 1, tf.nn.sigmoid)\n",
    "]\n",
    "\n",
    "def f_props(layers, x):\n",
    "    for i, layer in enumerate(layers):\n",
    "        x = layer.f_prop(x)\n",
    "    return x\n",
    "\n",
    "y = f_props(layers, x)\n",
    "\n",
    "cost = tf.reduce_mean(-t*tf.log(tf.clip_by_value(y, 1e-10, 1.0)) - (1. - t)*tf.log(tf.clip_by_value(1.-y, 1e-10, 1.0)))\n",
    "\n",
    "train = tf.train.AdamOptimizer().minimize(cost)\n",
    "test = tf.round(y)"
   ]
  },
  {
   "cell_type": "markdown",
   "metadata": {
    "deletable": true,
    "editable": true
   },
   "source": [
    "### 5. 学習"
   ]
  },
  {
   "cell_type": "code",
   "execution_count": 8,
   "metadata": {
    "collapsed": true,
    "deletable": true,
    "editable": true
   },
   "outputs": [],
   "source": [
    "# Sort train data according to its length\n",
    "train_X_lens = [len(com) for com in train_X]\n",
    "sorted_train_indexes = sorted(range(len(train_X_lens)), key=lambda x: -train_X_lens[x])\n",
    "\n",
    "train_X = [train_X[ind] for ind in sorted_train_indexes]\n",
    "train_y = [train_y[ind] for ind in sorted_train_indexes]"
   ]
  },
  {
   "cell_type": "code",
   "execution_count": 9,
   "metadata": {
    "collapsed": false,
    "deletable": true,
    "editable": true
   },
   "outputs": [
    {
     "name": "stderr",
     "output_type": "stream",
     "text": [
      "/usr/local/lib/python3.5/dist-packages/sklearn/metrics/classification.py:1113: UndefinedMetricWarning: F-score is ill-defined and being set to 0.0 in labels with no predicted samples.\n",
      "  'precision', 'predicted', average, warn_for)\n"
     ]
    },
    {
     "name": "stdout",
     "output_type": "stream",
     "text": [
      "EPOCH: 1, Training cost: 0.693, Validation cost: 0.693, Validation F1: 0.321\n",
      "EPOCH: 2, Training cost: 0.693, Validation cost: 0.693, Validation F1: 0.321\n",
      "EPOCH: 3, Training cost: 0.693, Validation cost: 0.693, Validation F1: 0.321\n",
      "EPOCH: 4, Training cost: 0.693, Validation cost: 0.694, Validation F1: 0.321\n",
      "EPOCH: 5, Training cost: 0.693, Validation cost: 0.694, Validation F1: 0.321\n"
     ]
    }
   ],
   "source": [
    "n_epochs = 5\n",
    "batch_size = 100\n",
    "n_batches_train = len(train_X) // batch_size\n",
    "n_batches_valid = len(valid_X) // batch_size\n",
    "\n",
    "with tf.Session() as sess:\n",
    "    init = tf.global_variables_initializer()\n",
    "    sess.run(init)\n",
    "    for epoch in range(n_epochs):\n",
    "        # Train\n",
    "        train_costs = []\n",
    "        for i in range(n_batches_train):\n",
    "            start = i * batch_size\n",
    "            end = start + batch_size\n",
    "            \n",
    "            train_X_mb = np.array(pad_sequences(train_X[start:end], padding='post', value=-1)) # Padding\n",
    "            train_y_mb = np.array(train_y[start:end])[:, np.newaxis]\n",
    "\n",
    "            _, train_cost = sess.run([train, cost], feed_dict={x: train_X_mb, t: train_y_mb})\n",
    "            train_costs.append(train_cost)\n",
    "        \n",
    "        # Valid\n",
    "        valid_costs = []\n",
    "        pred_y = []\n",
    "        for i in range(n_batches_valid):\n",
    "            start = i * batch_size\n",
    "            end = start + batch_size\n",
    "            \n",
    "            valid_X_mb = np.array(pad_sequences(valid_X[start:end], padding='post', value=-1)) # Padding\n",
    "            valid_y_mb = np.array(valid_y[start:end])[:, np.newaxis]\n",
    "            \n",
    "            pred, valid_cost = sess.run([test, cost], feed_dict={x: valid_X_mb, t: valid_y_mb})\n",
    "            pred_y += pred.flatten().tolist()\n",
    "            valid_costs.append(valid_cost)\n",
    "        print('EPOCH: %i, Training cost: %.3f, Validation cost: %.3f, Validation F1: %.3f' % (epoch+1, np.mean(train_costs), np.mean(valid_costs), f1_score(valid_y, pred_y, average='macro')))"
   ]
  },
  {
   "cell_type": "code",
   "execution_count": 11,
   "metadata": {},
   "outputs": [
    {
     "data": {
      "text/plain": [
       "(2500,)"
      ]
     },
     "execution_count": 11,
     "metadata": {},
     "output_type": "execute_result"
    }
   ],
   "source": [
    "np.array(pred_y).shape"
   ]
  },
  {
   "cell_type": "code",
   "execution_count": 13,
   "metadata": {},
   "outputs": [
    {
     "data": {
      "text/plain": [
       "2500"
      ]
     },
     "execution_count": 13,
     "metadata": {},
     "output_type": "execute_result"
    }
   ],
   "source": [
    "len(valid_X)"
   ]
  },
  {
   "cell_type": "code",
   "execution_count": null,
   "metadata": {},
   "outputs": [],
   "source": []
  }
 ],
 "metadata": {
  "anaconda-cloud": {},
  "kernelspec": {
   "display_name": "Python 3",
   "language": "python",
   "name": "python3"
  },
  "language_info": {
   "codemirror_mode": {
    "name": "ipython",
    "version": 3
   },
   "file_extension": ".py",
   "mimetype": "text/x-python",
   "name": "python",
   "nbconvert_exporter": "python",
   "pygments_lexer": "ipython3",
   "version": "3.5.2"
  }
 },
 "nbformat": 4,
 "nbformat_minor": 2
}
